{
 "cells": [
  {
   "cell_type": "code",
   "execution_count": null,
   "metadata": {},
   "outputs": [],
   "source": [
    "using Plots"
   ]
  },
  {
   "cell_type": "code",
   "execution_count": null,
   "metadata": {},
   "outputs": [],
   "source": [
    "MODEL_PATH_KEY = :hPC;\n",
    "const FLTYPE = Float32;"
   ]
  },
  {
   "cell_type": "code",
   "execution_count": null,
   "metadata": {},
   "outputs": [],
   "source": [
    "include(\"heavyloadings.jl\");\n",
    "include(\"iterations.jl\");"
   ]
  },
  {
   "cell_type": "code",
   "execution_count": null,
   "metadata": {},
   "outputs": [],
   "source": [
    "br0 = load(MODEL_FOLDER*\"\\\\bunny\\\\data\\\\bun000.ply\");\n",
    "br45 = load(MODEL_FOLDER*\"\\\\bunny\\\\data\\\\bun045.ply\");\n",
    "br90 = load(MODEL_FOLDER*\"\\\\bunny\\\\data\\\\bun090.ply\");\n",
    "br180 = load(MODEL_FOLDER*\"\\\\bunny\\\\data\\\\bun180.ply\");\n",
    "\n",
    "br0s = scaleMesh(br0,10);\n",
    "br45s = scaleMesh(br45,10);\n",
    "br90s = scaleMesh(br90,10);\n",
    "br180s = scaleMesh(br180,10);"
   ]
  },
  {
   "cell_type": "code",
   "execution_count": null,
   "metadata": {},
   "outputs": [],
   "source": [
    "dr0 = load(MODEL_FOLDER*\"\\\\dragon_stand\\\\dragonStandRight_0.ply\");\n",
    "dr24 = load(MODEL_FOLDER*\"\\\\dragon_stand\\\\dragonStandRight_24.ply\");\n",
    "dr48 = load(MODEL_FOLDER*\"\\\\dragon_stand\\\\dragonStandRight_48.ply\");\n",
    "dr72 = load(MODEL_FOLDER*\"\\\\dragon_stand\\\\dragonStandRight_72.ply\");\n",
    "dr96 = load(MODEL_FOLDER*\"\\\\dragon_stand\\\\dragonStandRight_96.ply\");"
   ]
  },
  {
   "cell_type": "code",
   "execution_count": null,
   "metadata": {},
   "outputs": [],
   "source": [
    "dr0s = scaleMesh(dr0,10);\n",
    "dr24s = scaleMesh(dr24,10);\n",
    "dr48s = scaleMesh(dr48,10);\n",
    "dr72s = scaleMesh(dr72,10);\n",
    "dr96s = scaleMesh(dr96,10);"
   ]
  },
  {
   "cell_type": "code",
   "execution_count": null,
   "metadata": {},
   "outputs": [],
   "source": [
    "vis = Visualizer();"
   ]
  },
  {
   "cell_type": "code",
   "execution_count": null,
   "metadata": {},
   "outputs": [],
   "source": [
    "open(vis)\n",
    "#IJuliaCell(vis)"
   ]
  },
  {
   "cell_type": "code",
   "execution_count": null,
   "metadata": {},
   "outputs": [],
   "source": [
    "placeMeshInLife(vis[\"dragon\"],dr0s,\"dr0s\",\"darkred\");\n",
    "placeMeshInLife(vis[\"dragon\"],dr24s,\"dr24s\",\"olivedrab2\");\n",
    "placeMeshInLife(vis[\"dragon\"],dr48s,\"dr48s\",\"orange\");\n",
    "placeMeshInLife(vis[\"dragon\"],dr72s,\"dr72s\",\"blue\");\n",
    "placeMeshInLife(vis[\"dragon\"],dr96s,\"dr96s\",\"yellow1\");"
   ]
  },
  {
   "cell_type": "code",
   "execution_count": null,
   "metadata": {},
   "outputs": [],
   "source": [
    "placeMeshInLife(vis[\"bunny\"],br0s,\"br0s\",\"darkred\");\n",
    "placeMeshInLife(vis[\"bunny\"],br45s,\"br45s\",\"olivedrab2\");\n",
    "placeMeshInLife(vis[\"bunny\"],br90s,\"br90s\",\"orange\");\n",
    "placeMeshInLife(vis[\"bunny\"],br180s,\"br180s\",\"blue\");"
   ]
  },
  {
   "cell_type": "code",
   "execution_count": null,
   "metadata": {},
   "outputs": [],
   "source": [
    "resD = wrapICP3(dr0s, dr24s, FLTYPE, itMax = 1000);"
   ]
  },
  {
   "cell_type": "code",
   "execution_count": null,
   "metadata": {},
   "outputs": [],
   "source": [
    "resD2 = wrapICP3(dr0s, dr48s, FLTYPE, itMax = 1000);"
   ]
  },
  {
   "cell_type": "code",
   "execution_count": null,
   "metadata": {},
   "outputs": [],
   "source": [
    "resD22 = wrapICP3(dr0s, dr48s, FLTYPE, itMax = 1000, sampPC = 20 );"
   ]
  },
  {
   "cell_type": "code",
   "execution_count": null,
   "metadata": {},
   "outputs": [],
   "source": [
    "resD3 = wrapICP3(dr0s, dr72s, FLTYPE, itMax = 2000);"
   ]
  },
  {
   "cell_type": "code",
   "execution_count": null,
   "metadata": {},
   "outputs": [],
   "source": [
    "timA, tim2A, hmD, errA = postProcDict(resD);\n",
    "timA3, tim2A3, hmD3, errA3 = postProcDict(resD3);\n",
    "timA2, tim2A2, hmD2, errA2 = postProcDict(resD2);\n",
    "endhM = sumcumHM(hmD);\n",
    "endhM2 = sumcumHM(hmD2);\n",
    "endhM3 = sumcumHM(hmD3);\n",
    "eTR = AffineMap(endhM[1:3,1:3],endhM[1:3,4]);\n",
    "eTR2 = AffineMap(endhM2[1:3,1:3],endhM2[1:3,4]);\n",
    "eTR3 = AffineMap(endhM3[1:3,1:3],endhM3[1:3,4]);"
   ]
  },
  {
   "cell_type": "code",
   "execution_count": null,
   "metadata": {},
   "outputs": [],
   "source": [
    "plot([tim2A,tim2A2,tim2A3],[errA,errA2,errA3], xlims = (0,100))"
   ]
  },
  {
   "cell_type": "code",
   "execution_count": null,
   "metadata": {},
   "outputs": [],
   "source": [
    "resettransform!(vis[\"dragon\"]);"
   ]
  },
  {
   "cell_type": "code",
   "execution_count": null,
   "metadata": {},
   "outputs": [],
   "source": [
    "settransform!(vis[\"dragon\"][\"dr24s\"],eTR);"
   ]
  },
  {
   "cell_type": "code",
   "execution_count": null,
   "metadata": {},
   "outputs": [],
   "source": [
    "settransform!(vis[\"dragon\"][\"dr48s\"],eTR2);"
   ]
  },
  {
   "cell_type": "code",
   "execution_count": null,
   "metadata": {},
   "outputs": [],
   "source": [
    "settransform!(vis[\"dragon\"][\"dr72s\"],eTR3);"
   ]
  },
  {
   "cell_type": "code",
   "execution_count": null,
   "metadata": {},
   "outputs": [],
   "source": [
    "histogram([timA, timA3], bins = 99)"
   ]
  },
  {
   "cell_type": "code",
   "execution_count": null,
   "metadata": {},
   "outputs": [],
   "source": [
    "histogram(timA, xlims = (950,2000), bins = 300)"
   ]
  }
 ],
 "metadata": {
  "kernelspec": {
   "display_name": "Julia 1.0.1",
   "language": "julia",
   "name": "julia-1.0"
  },
  "language_info": {
   "file_extension": ".jl",
   "mimetype": "application/julia",
   "name": "julia",
   "version": "1.0.1"
  }
 },
 "nbformat": 4,
 "nbformat_minor": 2
}
