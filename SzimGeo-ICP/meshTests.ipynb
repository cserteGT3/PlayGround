{
 "cells": [
  {
   "cell_type": "code",
   "execution_count": null,
   "metadata": {},
   "outputs": [],
   "source": [
    "using Plots"
   ]
  },
  {
   "cell_type": "code",
   "execution_count": null,
   "metadata": {},
   "outputs": [],
   "source": [
    "MODEL_PATH_KEY = :wNB;\n",
    "const FLTYPE = Float32;"
   ]
  },
  {
   "cell_type": "code",
   "execution_count": null,
   "metadata": {},
   "outputs": [],
   "source": [
    "include(\"heavyloadings.jl\");\n",
    "include(\"iterations.jl\");"
   ]
  },
  {
   "cell_type": "code",
   "execution_count": null,
   "metadata": {},
   "outputs": [],
   "source": [
    "br0 = load(MODEL_FOLDER*\"\\\\bunny\\\\data\\\\bun000.ply\");\n",
    "br45 = load(MODEL_FOLDER*\"\\\\bunny\\\\data\\\\bun045.ply\");\n",
    "br90 = load(MODEL_FOLDER*\"\\\\bunny\\\\data\\\\bun090.ply\");\n",
    "br180 = load(MODEL_FOLDER*\"\\\\bunny\\\\data\\\\bun180.ply\");"
   ]
  },
  {
   "cell_type": "code",
   "execution_count": null,
   "metadata": {},
   "outputs": [],
   "source": [
    "br0s = scaleMesh(br0,10);\n",
    "br45s = scaleMesh(br45,10);\n",
    "br90s = scaleMesh(br90,10);\n",
    "br180s = scaleMesh(br180,10);"
   ]
  },
  {
   "cell_type": "code",
   "execution_count": null,
   "metadata": {},
   "outputs": [],
   "source": [
    "vis = Visualizer();"
   ]
  },
  {
   "cell_type": "code",
   "execution_count": null,
   "metadata": {},
   "outputs": [],
   "source": [
    "open(vis)\n",
    "#IJuliaCell(vis)"
   ]
  },
  {
   "cell_type": "code",
   "execution_count": null,
   "metadata": {},
   "outputs": [],
   "source": [
    "placeMeshInLife(vis,br0s,\"br0s\",\"darkred\");"
   ]
  },
  {
   "cell_type": "code",
   "execution_count": null,
   "metadata": {},
   "outputs": [],
   "source": [
    "placeMeshInLife(vis,br45s,\"br45s\",\"olivedrab2\");"
   ]
  },
  {
   "cell_type": "code",
   "execution_count": null,
   "metadata": {},
   "outputs": [],
   "source": [
    "placeMeshInLife(vis,br90s,\"br90s\",\"orange\");"
   ]
  },
  {
   "cell_type": "code",
   "execution_count": null,
   "metadata": {},
   "outputs": [],
   "source": [
    "placeMeshInLife(vis,br180s,\"br180s\",\"blue\");"
   ]
  },
  {
   "cell_type": "code",
   "execution_count": null,
   "metadata": {},
   "outputs": [],
   "source": [
    "reference_pc = deepcopy(br0s);\n",
    "reading_pc = noisifyMesh(br45s);"
   ]
  },
  {
   "cell_type": "code",
   "execution_count": null,
   "metadata": {},
   "outputs": [],
   "source": [
    "itt = 50;\n",
    "resD = wrapICP1(reference_pc, reading_pc, FLTYPE, sampPC = 10, itNum = itt, rejPC = 10);\n",
    "resD3 = wrapICP3(reference_pc, reading_pc, FLTYPE, sampPC = 10, itNum = itt);"
   ]
  },
  {
   "cell_type": "code",
   "execution_count": null,
   "metadata": {},
   "outputs": [],
   "source": [
    "@profile wrapICP3(reference_pc, br90s, FLTYPE, sampPC = 50, itNum = 100);"
   ]
  },
  {
   "cell_type": "code",
   "execution_count": null,
   "metadata": {},
   "outputs": [],
   "source": [
    "ProfileView.view()"
   ]
  },
  {
   "cell_type": "code",
   "execution_count": null,
   "metadata": {},
   "outputs": [],
   "source": [
    "timA, tim2A, hmD, errA = postProcDict(resD);\n",
    "timA3, tim2A3, hmD3, errA3 = postProcDict(resD3);\n",
    "timA2, tim2A2, hmD2, errA2 = postProcDict(resD2);\n",
    "endhM = sumcumHM(hmD);\n",
    "endhM2 = sumcumHM(hmD2);\n",
    "endhM3 = sumcumHM(hmD3);\n",
    "eTR = AffineMap(endhM[1:3,1:3],endhM[1:3,4]);\n",
    "eTR2 = AffineMap(endhM2[1:3,1:3],endhM2[1:3,4]);\n",
    "eTR3 = AffineMap(endhM3[1:3,1:3],endhM3[1:3,4]);"
   ]
  },
  {
   "cell_type": "code",
   "execution_count": null,
   "metadata": {},
   "outputs": [],
   "source": [
    "plot([tim2A,tim2A2,tim2A3],[errA,errA2,errA3])"
   ]
  },
  {
   "cell_type": "code",
   "execution_count": null,
   "metadata": {},
   "outputs": [],
   "source": [
    "resettransform!(vis[\"br90s\"]);"
   ]
  },
  {
   "cell_type": "code",
   "execution_count": null,
   "metadata": {},
   "outputs": [],
   "source": [
    "settransform!(vis[\"br45s\"],eTR);"
   ]
  },
  {
   "cell_type": "code",
   "execution_count": null,
   "metadata": {},
   "outputs": [],
   "source": [
    "settransform!(vis[\"br90s\"],eTR2);"
   ]
  },
  {
   "cell_type": "code",
   "execution_count": null,
   "metadata": {},
   "outputs": [],
   "source": [
    "settransform!(vis[\"br180s\"],eTR2);"
   ]
  },
  {
   "cell_type": "code",
   "execution_count": null,
   "metadata": {},
   "outputs": [],
   "source": [
    "histogram([timA, timA3], bins = 99)"
   ]
  },
  {
   "cell_type": "code",
   "execution_count": null,
   "metadata": {},
   "outputs": [],
   "source": [
    "histogram(timA, xlims = (950,2000), bins = 300)"
   ]
  }
 ],
 "metadata": {
  "kernelspec": {
   "display_name": "Julia 1.0.1",
   "language": "julia",
   "name": "julia-1.0"
  },
  "language_info": {
   "file_extension": ".jl",
   "mimetype": "application/julia",
   "name": "julia",
   "version": "1.0.1"
  }
 },
 "nbformat": 4,
 "nbformat_minor": 2
}
