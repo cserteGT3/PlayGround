{
 "cells": [
  {
   "cell_type": "markdown",
   "metadata": {},
   "source": [
    "# Demo02\n",
    "The darmstadt model"
   ]
  },
  {
   "cell_type": "code",
   "execution_count": null,
   "metadata": {},
   "outputs": [],
   "source": [
    "MODEL_PATH_KEY = :hPC;\n",
    "const FLTYPE = Float32;"
   ]
  },
  {
   "cell_type": "code",
   "execution_count": null,
   "metadata": {},
   "outputs": [],
   "source": [
    "include(pwd()[1:end-4]*\"heavyloadings.jl\");\n",
    "include(pwd()[1:end-4]*\"iterations.jl\");"
   ]
  },
  {
   "cell_type": "code",
   "execution_count": null,
   "metadata": {},
   "outputs": [],
   "source": [
    "vis = Visualizer();"
   ]
  },
  {
   "cell_type": "code",
   "execution_count": null,
   "metadata": {},
   "outputs": [],
   "source": [
    "open(vis)\n",
    "#IJuliaCell(vis)"
   ]
  },
  {
   "cell_type": "code",
   "execution_count": null,
   "metadata": {},
   "outputs": [],
   "source": [
    "dm1s = scaleMesh(load(MODEL_FOLDER*\"\\\\darmstadt\\\\dm111.ply\"),0.1);\n",
    "dm2s = scaleMesh(load(MODEL_FOLDER*\"\\\\darmstadt\\\\dm222.ply\"),0.1);\n",
    "dm3s = scaleMesh(load(MODEL_FOLDER*\"\\\\darmstadt\\\\dm333.ply\"),0.1);"
   ]
  },
  {
   "cell_type": "code",
   "execution_count": null,
   "metadata": {},
   "outputs": [],
   "source": [
    "placeMeshInLife(vis[\"dm\"],dm1s,\"dm1s\",\"darkred\");\n",
    "placeMeshInLife(vis[\"dm\"],dm2s,\"dm2s\",\"olivedrab2\");\n",
    "placeMeshInLife(vis[\"dm\"],dm3s,\"dm3s\",\"orange\");\n",
    "resettransform!(vis[\"dm\"]);"
   ]
  },
  {
   "cell_type": "code",
   "execution_count": null,
   "metadata": {},
   "outputs": [],
   "source": [
    "resD = wrapICP3(dm1s, dm2s, FLTYPE, itMax = 1000);"
   ]
  },
  {
   "cell_type": "code",
   "execution_count": null,
   "metadata": {},
   "outputs": [],
   "source": [
    "resD2 = wrapICP3(dm1s, dm3s, FLTYPE, itMax = 1000);"
   ]
  },
  {
   "cell_type": "code",
   "execution_count": null,
   "metadata": {},
   "outputs": [],
   "source": [
    "timA, tim2A, hmD, errA = postProcDict(resD);\n",
    "timA2, tim2A2, hmD2, errA2 = postProcDict(resD2);\n",
    "eM, aF = sumcumHM(hmD);\n",
    "eM2, aF2 = sumcumHM(hmD2);"
   ]
  },
  {
   "cell_type": "code",
   "execution_count": null,
   "metadata": {},
   "outputs": [],
   "source": [
    "settransform!(vis[\"dm\"][\"dm2s\"],aF);"
   ]
  },
  {
   "cell_type": "code",
   "execution_count": null,
   "metadata": {},
   "outputs": [],
   "source": [
    "settransform!(vis[\"dm\"][\"dm3s\"],aF2);"
   ]
  },
  {
   "cell_type": "code",
   "execution_count": null,
   "metadata": {},
   "outputs": [],
   "source": []
  }
 ],
 "metadata": {
  "kernelspec": {
   "display_name": "Julia 1.0.1",
   "language": "julia",
   "name": "julia-1.0"
  },
  "language_info": {
   "file_extension": ".jl",
   "mimetype": "application/julia",
   "name": "julia",
   "version": "1.0.1"
  }
 },
 "nbformat": 4,
 "nbformat_minor": 2
}
