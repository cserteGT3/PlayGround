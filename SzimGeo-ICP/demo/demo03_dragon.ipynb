{
 "cells": [
  {
   "cell_type": "markdown",
   "metadata": {},
   "source": [
    "# Demo3\n",
    "## Part1\n",
    "Registrating the dragon"
   ]
  },
  {
   "cell_type": "code",
   "execution_count": null,
   "metadata": {},
   "outputs": [],
   "source": [
    "using Plots"
   ]
  },
  {
   "cell_type": "code",
   "execution_count": null,
   "metadata": {},
   "outputs": [],
   "source": [
    "MODEL_PATH_KEY = :hPC;\n",
    "const FLTYPE = Float32;"
   ]
  },
  {
   "cell_type": "code",
   "execution_count": null,
   "metadata": {},
   "outputs": [],
   "source": [
    "include(pwd()[1:end-4]*\"heavyloadings.jl\");\n",
    "include(pwd()[1:end-4]*\"iterations.jl\");"
   ]
  },
  {
   "cell_type": "code",
   "execution_count": null,
   "metadata": {},
   "outputs": [],
   "source": [
    "vis = Visualizer();"
   ]
  },
  {
   "cell_type": "code",
   "execution_count": null,
   "metadata": {},
   "outputs": [],
   "source": [
    "open(vis)\n",
    "#IJuliaCell(vis)"
   ]
  },
  {
   "cell_type": "code",
   "execution_count": null,
   "metadata": {},
   "outputs": [],
   "source": [
    "dr0 = load(MODEL_FOLDER*\"\\\\dragon_stand\\\\dragonStandRight_0.ply\");\n",
    "dr24 = load(MODEL_FOLDER*\"\\\\dragon_stand\\\\dragonStandRight_24.ply\");\n",
    "dr48 = load(MODEL_FOLDER*\"\\\\dragon_stand\\\\dragonStandRight_48.ply\");\n",
    "dr72 = load(MODEL_FOLDER*\"\\\\dragon_stand\\\\dragonStandRight_72.ply\");\n",
    "dr96 = load(MODEL_FOLDER*\"\\\\dragon_stand\\\\dragonStandRight_96.ply\");"
   ]
  },
  {
   "cell_type": "code",
   "execution_count": null,
   "metadata": {},
   "outputs": [],
   "source": [
    "dr0s = scaleMesh(dr0,10);\n",
    "dr24s = scaleMesh(dr24,10);\n",
    "dr48s = scaleMesh(dr48,10);\n",
    "dr72s = scaleMesh(dr72,10);\n",
    "dr96s = scaleMesh(dr96,10);"
   ]
  },
  {
   "cell_type": "code",
   "execution_count": null,
   "metadata": {},
   "outputs": [],
   "source": [
    "placeMeshInLife(vis[\"dragon\"],dr0s,\"dr0s\",\"darkred\");\n",
    "placeMeshInLife(vis[\"dragon\"],dr24s,\"dr24s\",\"olivedrab2\");\n",
    "placeMeshInLife(vis[\"dragon\"],dr48s,\"dr48s\",\"orange\");\n",
    "placeMeshInLife(vis[\"dragon\"],dr72s,\"dr72s\",\"blue\");\n",
    "placeMeshInLife(vis[\"dragon\"],dr96s,\"dr96s\",\"yellow1\");"
   ]
  },
  {
   "cell_type": "code",
   "execution_count": null,
   "metadata": {},
   "outputs": [],
   "source": [
    "resD = wrapICP3(dr0s, dr24s, FLTYPE, itMax = 1000);"
   ]
  },
  {
   "cell_type": "code",
   "execution_count": null,
   "metadata": {},
   "outputs": [],
   "source": [
    "resD2 = wrapICP3(dr0s, dr48s, FLTYPE, itMax = 1000);"
   ]
  },
  {
   "cell_type": "code",
   "execution_count": null,
   "metadata": {},
   "outputs": [],
   "source": [
    "resD3 = wrapICP3(dr0s, dr72s, FLTYPE, itMax = 2000);"
   ]
  },
  {
   "cell_type": "code",
   "execution_count": null,
   "metadata": {},
   "outputs": [],
   "source": [
    "resD4 = wrapICP3(dr0s, dr96s, FLTYPE, itMax = 2000);"
   ]
  },
  {
   "cell_type": "code",
   "execution_count": null,
   "metadata": {},
   "outputs": [],
   "source": [
    "timA, tim2A, hmD, errA = postProcDict(resD);\n",
    "timA2, tim2A2, hmD2, errA2 = postProcDict(resD2);\n",
    "timA3, tim2A3, hmD3, errA3 = postProcDict(resD3);\n",
    "timA4, tim2A4, hmD4, errA4 = postProcDict(resD4);\n",
    "eM, aF = sumcumHM(hmD);\n",
    "eM2, aF2 = sumcumHM(hmD2);\n",
    "eM3, aF3 = sumcumHM(hmD3);\n",
    "eM4, aF4 = sumcumHM(hmD4);"
   ]
  },
  {
   "cell_type": "code",
   "execution_count": null,
   "metadata": {},
   "outputs": [],
   "source": [
    "resettransform!(vis[\"dragon\"]);"
   ]
  },
  {
   "cell_type": "code",
   "execution_count": null,
   "metadata": {},
   "outputs": [],
   "source": [
    "settransform!(vis[\"dragon\"][\"dr24s\"],aF);"
   ]
  },
  {
   "cell_type": "code",
   "execution_count": null,
   "metadata": {},
   "outputs": [],
   "source": [
    "settransform!(vis[\"dragon\"][\"dr48s\"],aF2);"
   ]
  },
  {
   "cell_type": "code",
   "execution_count": null,
   "metadata": {},
   "outputs": [],
   "source": [
    "settransform!(vis[\"dragon\"][\"dr72s\"],aF3);"
   ]
  },
  {
   "cell_type": "code",
   "execution_count": null,
   "metadata": {},
   "outputs": [],
   "source": [
    "settransform!(vis[\"dragon\"][\"dr96s\"],aF4);"
   ]
  },
  {
   "cell_type": "markdown",
   "metadata": {},
   "source": [
    "## Part2\n",
    "How does it perform"
   ]
  },
  {
   "cell_type": "code",
   "execution_count": null,
   "metadata": {},
   "outputs": [],
   "source": [
    "p2D1 = wrapICP1(dr0s, dr24s, FLTYPE, itMax = 1000, rejPC = 10);"
   ]
  },
  {
   "cell_type": "code",
   "execution_count": null,
   "metadata": {},
   "outputs": [],
   "source": [
    "p2D2 = wrapICP3(dr0s, dr24s, FLTYPE, itMax = 1000);"
   ]
  },
  {
   "cell_type": "code",
   "execution_count": null,
   "metadata": {},
   "outputs": [],
   "source": [
    "p2tR1, p2tA1, p2hm1, p2e1 = postProcDict(p2D1);\n",
    "p2tR2, p2tA2, p2hm2, p2e2 = postProcDict(p2D2);\n",
    "p2eM, p2aF = sumcumHM(p2hm1);\n",
    "p2eM2, p2aF2 = sumcumHM(p2hm2);"
   ]
  },
  {
   "cell_type": "code",
   "execution_count": null,
   "metadata": {},
   "outputs": [],
   "source": [
    "plot([p2tA1, p2tA2],[p2e1,p2e2],title = \"Error vs time\", label = [\"Worst x%\", \"Sigma rejection\"], lw = 4)"
   ]
  },
  {
   "cell_type": "code",
   "execution_count": null,
   "metadata": {},
   "outputs": [],
   "source": [
    "scatter([p2tA1, p2tA2],[p2e1,p2e2],title = \"Error vs time\", label = [\"Worst x%\", \"Sigma rejection\"])"
   ]
  },
  {
   "cell_type": "code",
   "execution_count": null,
   "metadata": {},
   "outputs": [],
   "source": [
    "plot([p2tR1, p2tR2],  layout = 2, t = [:histogram :histogram], label = [\"Worst x%\" \"Sigma rejection\"], c = [:green :orange])"
   ]
  },
  {
   "cell_type": "code",
   "execution_count": null,
   "metadata": {},
   "outputs": [],
   "source": [
    "histogram([p2tR1, p2tR2], label = [\"Worst x%\" \"Sigma rejection\"])"
   ]
  },
  {
   "cell_type": "markdown",
   "metadata": {},
   "source": [
    "[reason](http://juliastats.github.io/StatsBase.jl/stable/sampling.html#StatsBase.self_avoid_sample!)"
   ]
  },
  {
   "cell_type": "markdown",
   "metadata": {},
   "source": [
    "# Part3\n",
    "Registrate them all together"
   ]
  },
  {
   "cell_type": "code",
   "execution_count": null,
   "metadata": {},
   "outputs": [],
   "source": [
    "resettransform!(vis[\"dragon\"][\"dr24s\"]);\n",
    "resettransform!(vis[\"dragon\"][\"dr48s\"]);\n",
    "resettransform!(vis[\"dragon\"][\"dr72s\"]);\n",
    "resettransform!(vis[\"dragon\"][\"dr96s\"]);"
   ]
  },
  {
   "cell_type": "code",
   "execution_count": null,
   "metadata": {},
   "outputs": [],
   "source": [
    "r3esD = wrapICP3(dr72s, dr96s, FLTYPE, itMax = 4000);"
   ]
  },
  {
   "cell_type": "code",
   "execution_count": null,
   "metadata": {},
   "outputs": [],
   "source": [
    "r3esD2 = wrapICP3(dr48s, dr72s, FLTYPE, itMax = 2000);"
   ]
  },
  {
   "cell_type": "code",
   "execution_count": null,
   "metadata": {},
   "outputs": [],
   "source": [
    "r3esD3 = wrapICP3(dr24s, dr48s, FLTYPE, itMax = 2000);"
   ]
  },
  {
   "cell_type": "code",
   "execution_count": null,
   "metadata": {},
   "outputs": [],
   "source": [
    "r3esD4 = wrapICP3(dr0s, dr24s, FLTYPE, itMax = 2000);"
   ]
  },
  {
   "cell_type": "code",
   "execution_count": null,
   "metadata": {},
   "outputs": [],
   "source": [
    "timA, tim2A, hmD, errA = postProcDict(r3esD);\n",
    "timA2, tim2A2, hmD2, errA2 = postProcDict(r3esD2);\n",
    "timA3, tim2A3, hmD3, errA3 = postProcDict(r3esD3);\n",
    "timA4, tim2A4, hmD4, errA4 = postProcDict(r3esD4);\n",
    "eM, aF = sumcumHM(hmD);\n",
    "eM2, aF2 = sumcumHM(hmD2);\n",
    "eM3, aF3 = sumcumHM(hmD3);\n",
    "eM4, aF4 = sumcumHM(hmD4);"
   ]
  },
  {
   "cell_type": "code",
   "execution_count": null,
   "metadata": {},
   "outputs": [],
   "source": [
    "tr24 = eM4;\n",
    "tr48 = eM4*eM3;\n",
    "tr72 = eM4*eM3*eM2;\n",
    "tr96 = eM4*eM3*eM2*eM;"
   ]
  },
  {
   "cell_type": "code",
   "execution_count": null,
   "metadata": {},
   "outputs": [],
   "source": [
    "settransform!(vis[\"dragon\"][\"dr24s\"],AffineMap(eM4[1:3,1:3],eM4[1:3,4]));"
   ]
  },
  {
   "cell_type": "code",
   "execution_count": null,
   "metadata": {},
   "outputs": [],
   "source": [
    "settransform!(vis[\"dragon\"][\"dr48s\"],AffineMap(tr48[1:3,1:3],tr48[1:3,4]));"
   ]
  },
  {
   "cell_type": "code",
   "execution_count": null,
   "metadata": {},
   "outputs": [],
   "source": [
    "settransform!(vis[\"dragon\"][\"dr72s\"],AffineMap(tr72[1:3,1:3],tr72[1:3,4]));"
   ]
  },
  {
   "cell_type": "code",
   "execution_count": null,
   "metadata": {},
   "outputs": [],
   "source": [
    "settransform!(vis[\"dragon\"][\"dr96s\"],AffineMap(tr96[1:3,1:3],tr96[1:3,4]));"
   ]
  },
  {
   "cell_type": "code",
   "execution_count": null,
   "metadata": {},
   "outputs": [],
   "source": []
  }
 ],
 "metadata": {
  "kernelspec": {
   "display_name": "Julia 1.0.1",
   "language": "julia",
   "name": "julia-1.0"
  },
  "language_info": {
   "file_extension": ".jl",
   "mimetype": "application/julia",
   "name": "julia",
   "version": "1.0.1"
  }
 },
 "nbformat": 4,
 "nbformat_minor": 2
}
