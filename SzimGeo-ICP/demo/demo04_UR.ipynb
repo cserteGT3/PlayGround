{
 "cells": [
  {
   "cell_type": "markdown",
   "metadata": {},
   "source": [
    "# Demo4\n",
    "Registrating the UR robot"
   ]
  },
  {
   "cell_type": "code",
   "execution_count": null,
   "metadata": {},
   "outputs": [],
   "source": [
    "MODEL_PATH_KEY = :hPC;\n",
    "const FLTYPE = Float32;"
   ]
  },
  {
   "cell_type": "code",
   "execution_count": null,
   "metadata": {},
   "outputs": [],
   "source": [
    "include(pwd()[1:end-4]*\"heavyloadings.jl\");\n",
    "include(pwd()[1:end-4]*\"iterations.jl\");"
   ]
  },
  {
   "cell_type": "code",
   "execution_count": null,
   "metadata": {},
   "outputs": [],
   "source": [
    "vis = Visualizer();"
   ]
  },
  {
   "cell_type": "code",
   "execution_count": null,
   "metadata": {},
   "outputs": [],
   "source": [
    "open(vis)\n",
    "#IJuliaCell(vis)"
   ]
  },
  {
   "cell_type": "code",
   "execution_count": null,
   "metadata": {},
   "outputs": [],
   "source": [
    "ur_kin = load(MODEL_FOLDER*\"\\\\UR\\\\UR_Kinect.ply\");\n",
    "ur_mod = scaleMesh(load(MODEL_FOLDER*\"\\\\UR\\\\UR5sampled.ply\"),0.001);"
   ]
  },
  {
   "cell_type": "code",
   "execution_count": null,
   "metadata": {},
   "outputs": [],
   "source": [
    "placeMeshInLife(vis[\"ur\"],ur_kin,\"ur_kin\",\"darkred\");\n",
    "placeMeshInLife(vis[\"ur\"],ur_mod,\"ur_mod\",\"olivedrab2\");"
   ]
  },
  {
   "cell_type": "code",
   "execution_count": null,
   "metadata": {},
   "outputs": [],
   "source": [
    "resD = wrapICP3(ur_mod, ur_kin, FLTYPE, itMax = 2000);"
   ]
  },
  {
   "cell_type": "code",
   "execution_count": null,
   "metadata": {},
   "outputs": [],
   "source": [
    "timA, tim2A, hmD, errA = postProcDict(resD);\n",
    "eM, aF = sumcumHM(hmD);"
   ]
  },
  {
   "cell_type": "code",
   "execution_count": null,
   "metadata": {},
   "outputs": [],
   "source": [
    "resettransform!(vis[\"ur\"][\"ur_kin\"])"
   ]
  },
  {
   "cell_type": "code",
   "execution_count": null,
   "metadata": {},
   "outputs": [],
   "source": [
    "settransform!(vis[\"ur\"][\"ur_kin\"],aF);"
   ]
  }
 ],
 "metadata": {
  "kernelspec": {
   "display_name": "Julia 1.0.1",
   "language": "julia",
   "name": "julia-1.0"
  },
  "language_info": {
   "file_extension": ".jl",
   "mimetype": "application/julia",
   "name": "julia",
   "version": "1.0.1"
  }
 },
 "nbformat": 4,
 "nbformat_minor": 2
}
