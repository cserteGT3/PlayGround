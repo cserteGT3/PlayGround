{
 "cells": [
  {
   "cell_type": "code",
   "execution_count": null,
   "metadata": {},
   "outputs": [],
   "source": [
    "#using Markdown; Markdown.parse_file(\"README.md\")"
   ]
  },
  {
   "cell_type": "code",
   "execution_count": null,
   "metadata": {},
   "outputs": [],
   "source": [
    "MODEL_PATH_KEY = :hPC;\n",
    "const FLTYPE = Float32;\n",
    "include(\"heavyloadings.jl\");"
   ]
  },
  {
   "cell_type": "code",
   "execution_count": null,
   "metadata": {},
   "outputs": [],
   "source": [
    "half_b = load(MODEL_FOLDER*\"\\\\bunny\\\\half_bunny_unmod.ply\");\n",
    "half_b_rot = load(MODEL_FOLDER*\"\\\\bunny\\\\half_bunny_rot1.ply\");"
   ]
  },
  {
   "cell_type": "code",
   "execution_count": null,
   "metadata": {},
   "outputs": [],
   "source": [
    "include(\"firsticp.jl\")"
   ]
  },
  {
   "cell_type": "code",
   "execution_count": null,
   "metadata": {},
   "outputs": [],
   "source": [
    "half_b_sc = scaleMesh(half_b,10);\n",
    "half_b_rot_sc = scaleMesh(half_b_rot,10);"
   ]
  },
  {
   "cell_type": "code",
   "execution_count": null,
   "metadata": {
    "scrolled": false
   },
   "outputs": [],
   "source": [
    "IJuliaCell(vis)"
   ]
  },
  {
   "cell_type": "code",
   "execution_count": null,
   "metadata": {},
   "outputs": [],
   "source": [
    "placeMeshInLife(vis,half_b_sc,\"hbunny\",\"darkred\");"
   ]
  },
  {
   "cell_type": "code",
   "execution_count": null,
   "metadata": {},
   "outputs": [],
   "source": [
    "placeMeshInLife(vis,half_b_rot_sc,\"rotbunny\",\"olivedrab2\")"
   ]
  },
  {
   "cell_type": "markdown",
   "metadata": {},
   "source": [
    "## Old workflow\n",
    "Every array is using `Point3f0`\n",
    "\n",
    "```julia\n",
    "#Workflow: (reading, reference)\n",
    "#Input meshes/pointclouds\n",
    "reference_pc = deepcopy(half_b_sc);\n",
    "reading_pc = noisifyMesh(half_b_rot_sc);\n",
    "#Arrays of Point3f0\n",
    "reference_array = vertices(reference_pc);\n",
    "reading_array = vertices(reading_pc);\n",
    "#KD tree for the reference array\n",
    "#kdtree_ref = KDTree(reference_array);\n",
    "\n",
    "#Sampling random elements from the reference array\n",
    "sampled_points_ref = randomSamplePoints(reference_array,0.5);\n",
    "#Building KD tree for the sampled points\n",
    "kdtree_sampled_ref = KDTree(sampled_points_ref);\n",
    "\n",
    "#pairing the points in the two meshes\n",
    "indexer,fl_traits = createKnnPairArray(reading_array,kdtree_sampled_ref,sampled_points_ref,true);\n",
    "#rejecting the worst 20% based on the distance\n",
    "rej_is,rej_fltrs = rejectWorstPercent(indexer,fl_traits,0.2);\n",
    "```"
   ]
  },
  {
   "cell_type": "markdown",
   "metadata": {},
   "source": [
    "## New workflow\n",
    "Using Homogeneous vector instead of `Point3f0`\n",
    "\n",
    "Ötlet: amíg lehet csak az az indexeket használni és csak ahol muszáj, ott számolni a konkrét mátrixokkal\n",
    "### Workflow lépései:\n",
    "1. [x] reading és ref mesh-t homogén koordinátás SVector/MVector**(?)** tömbbé alakítani\n",
    "1. [x] a teljes referencia tömbből kd-tree\n",
    "### Iteráció\n",
    "1. [x] reading tömbből sampling\n",
    "1. [x] samplinged tömbhöz párkeresés a fából\n",
    "1. ##### Worst `x`% rejection\n",
    "  * [x] párok sorbarendezése távolság szerint\n",
    "  * [x] a sorbarendezett párok `x`%-nak kidobása\n",
    "1. ##### 2.5sigma rejection\n",
    "  * [ ] szórás számítása\n",
    "  * [ ] 2.5 sigmánál nagyobbak kidobása\n",
    "1. [x] A\\b összeállítása és megoldása\n",
    "1. [x] transzformáció a megoldással\n",
    "1. [x] transzformáció mentése vizualizációhoz\n",
    "1. [ ] kilépési feltétel check\n",
    "\n",
    "### Iteráció vége\n",
    "\n",
    "11. [ ] place in MeshCat\n",
    "12. [ ] animate in MeshCat\n"
   ]
  },
  {
   "cell_type": "code",
   "execution_count": null,
   "metadata": {},
   "outputs": [],
   "source": [
    "#Workflow: (reading, reference)\n",
    "#Input meshes/pointclouds\n",
    "reference_pc = deepcopy(half_b_sc);\n",
    "reading_pc = noisifyMesh(half_b_rot_sc);\n",
    "#Arrays of SVector\n",
    "reference_array = convert2HomogeneousArray(vertices(reference_pc),FLTYPE);\n",
    "reading_array = convert2HomogeneousArray(vertices(reading_pc),FLTYPE);\n",
    "#Sampling random elements from the reference and the reading array\n",
    "sampled_points_ref = randomSamplePoints(reference_array,50);\n",
    "sampled_points_red = randomSamplePoints(reading_array,50);\n",
    "#Building KD tree for the sampled ref points and the whole ref array\n",
    "kdtree_sampled_ref = KDTree(sampled_points_ref);\n",
    "kdtree_ref = KDTree(reference_array);\n",
    "\n",
    "#Iterate from here\n",
    "\n",
    "#pairing the points in the two meshes\n",
    "indM, traitM = createKnnPairArray(sampled_points_red,kdtree_ref);\n",
    "#sorting the indexes by the distances in the trait matrix\n",
    "s_indM, s_it = sortIndexes(indM, traitM[:,2]);\n",
    "#remove the worst 10%\n",
    "ch_ind, ch_it = chopEndOfArray(20,s_indM,s_it);"
   ]
  },
  {
   "cell_type": "markdown",
   "metadata": {},
   "source": [
    "### Newnew workflow with matrix instead of array of array"
   ]
  },
  {
   "cell_type": "code",
   "execution_count": null,
   "metadata": {},
   "outputs": [],
   "source": [
    "#Workflow: (reading, reference)\n",
    "#Input meshes/pointclouds\n",
    "reference_pc = deepcopy(half_b_sc);\n",
    "reading_pc = noisifyMesh(half_b_rot_sc);"
   ]
  },
  {
   "cell_type": "code",
   "execution_count": null,
   "metadata": {},
   "outputs": [],
   "source": [
    "function firstICP(ref_mesh, read_mesh, iternum; fltype = Float32, sampleN = 50, chopN = 20, v = true)\n",
    "    #Matrixes\n",
    "    ref_mat = convert2HomCoordMatrix(vertices(reference_pc), fltype)\n",
    "    red_mat = convert2HomCoordMatrix(vertices(reading_pc), fltype)\n",
    "    #Transposed reference matrix\n",
    "    ref_mtp = giveTranspose(ref_mat)\n",
    "    red_mtp = giveTranspose(red_mat)\n",
    "\n",
    "    #Sampling random indexes for the reference and reading arrays\n",
    "    #si_ref = randomSampleIndexes(50, ref_mtp, 2)\n",
    "    #si_red = randomSampleIndexes(50, red_mtp, 2)\n",
    "\n",
    "    #Building KD tree for the whole ref array (transposed matrix must be used)\n",
    "    kdtree_ref = KDTree(ref_mtp);\n",
    "    \n",
    "    firstDict, ujar = basicIteration(red_mtp, kdtree_ref, ref_mat, iternum, sampleN=sampleN, chopN=chopN, v=v);\n",
    "    return firstDict, red_mtp, ujar\n",
    "end"
   ]
  },
  {
   "cell_type": "code",
   "execution_count": null,
   "metadata": {},
   "outputs": [],
   "source": [
    "function basicIteration(read_vert, kdtree_r, ref_mhor, itnum; sampleN = 50, chopN = 20, v = true)\n",
    "    trDict = Dict{Int,Any}()\n",
    "    for i in 1:itnum\n",
    "        #selecting random % of the reading\n",
    "        si_red = randomSampleIndexes(sampleN, read_vert, 2);\n",
    "        #pairing the points in the two meshes\n",
    "        indM, traitM = createKnnPairArray(read_vert[:,si_red], kdtree_r);\n",
    "        #sorting the indexes by the distances in the trait matrix\n",
    "        s_indM, s_it = sortIndexes(indM, traitM[:,2]);\n",
    "        #remove the worst %\n",
    "        ch_ind, ch_it = chopEndOfArray(chopN, s_indM,s_it);\n",
    "        #make the transformation matrix\n",
    "        coordTR = transpose(read_vert[:,ch_ind[:,2]])\\ref_mhor[ch_ind[:,1],:];\n",
    "        #transzforálmi az mtp-t kell\n",
    "        coordTR[:,4] = [0,0,0,1]\n",
    "        read_vert = transpose(coordTR) * read_vert;\n",
    "        trDict[i] = transpose(coordTR)\n",
    "        if v && i%100 == 0\n",
    "            print(\"\\r $i'th iteration\")\n",
    "        end\n",
    "    end\n",
    "    return trDict, read_vert\n",
    "end"
   ]
  },
  {
   "cell_type": "code",
   "execution_count": null,
   "metadata": {},
   "outputs": [],
   "source": [
    "dicti, tred_mesh, trmeshuj = firstICP(reference_pc, reading_pc, 1000);"
   ]
  },
  {
   "cell_type": "code",
   "execution_count": null,
   "metadata": {},
   "outputs": [],
   "source": [
    "newmesh = makeMeshfromMatrix(transpose(tred_mesh));"
   ]
  },
  {
   "cell_type": "code",
   "execution_count": null,
   "metadata": {},
   "outputs": [],
   "source": [
    "newmesh_tr = makeMeshfromMatrix(transpose(trmeshuj));"
   ]
  },
  {
   "cell_type": "code",
   "execution_count": null,
   "metadata": {},
   "outputs": [],
   "source": [
    "newmesh_tr"
   ]
  },
  {
   "cell_type": "code",
   "execution_count": null,
   "metadata": {},
   "outputs": [],
   "source": [
    "placeMeshInLife(vis, newmesh, \"tred\")"
   ]
  },
  {
   "cell_type": "code",
   "execution_count": null,
   "metadata": {},
   "outputs": [],
   "source": [
    "placeMeshInLife(vis, newmesh_tr, \"trededd\", \"orange\")"
   ]
  },
  {
   "cell_type": "code",
   "execution_count": null,
   "metadata": {},
   "outputs": [],
   "source": [
    "@benchmark firstICP(reference_pc, reading_pc, 1000, v = false)"
   ]
  },
  {
   "cell_type": "code",
   "execution_count": null,
   "metadata": {},
   "outputs": [],
   "source": [
    "function affinMapList(dicti, accumulate = false)\n",
    "    aff_arr = Array{AffineMap}(undef,length(dicti))\n",
    "    for i in 1:length(dicti)\n",
    "        aff_arr[i] = AffineMap(SMatrix{3,3}(dicti[i][1:3,1:3]), SVector{3}(dicti[i][1:3,4]))\n",
    "    end\n",
    "    return aff_arr\n",
    "end"
   ]
  },
  {
   "cell_type": "code",
   "execution_count": null,
   "metadata": {},
   "outputs": [],
   "source": [
    "affinMapList(dicti)"
   ]
  },
  {
   "cell_type": "markdown",
   "metadata": {},
   "source": [
    "## TODOs:\n",
    "* mtp tömb allokálódik a belső ciklusban?\n",
    "* affin tr. konverzió ellenőrzése\n",
    "* affin tr. akkumulálása\n",
    "* vizualizáció\n",
    "* animáció"
   ]
  },
  {
   "cell_type": "code",
   "execution_count": null,
   "metadata": {},
   "outputs": [],
   "source": []
  }
 ],
 "metadata": {
  "kernelspec": {
   "display_name": "Julia 1.0.1",
   "language": "julia",
   "name": "julia-1.0"
  },
  "language_info": {
   "file_extension": ".jl",
   "mimetype": "application/julia",
   "name": "julia",
   "version": "1.0.1"
  }
 },
 "nbformat": 4,
 "nbformat_minor": 2
}
