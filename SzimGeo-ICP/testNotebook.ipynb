{
 "cells": [
  {
   "cell_type": "code",
   "execution_count": null,
   "metadata": {},
   "outputs": [],
   "source": [
    "#using Markdown; Markdown.parse_file(\"README.md\")"
   ]
  },
  {
   "cell_type": "code",
   "execution_count": null,
   "metadata": {},
   "outputs": [],
   "source": [
    "MODEL_PATH_KEY = :wNB;\n",
    "const FLTYPE = Float32;\n",
    "include(\"heavyloadings.jl\");"
   ]
  },
  {
   "cell_type": "code",
   "execution_count": null,
   "metadata": {},
   "outputs": [],
   "source": [
    "half_b = load(MODEL_FOLDER*\"\\\\bunny\\\\half_bunny_unmod.ply\");\n",
    "half_b_rot = load(MODEL_FOLDER*\"\\\\bunny\\\\half_bunny_rot1.ply\");"
   ]
  },
  {
   "cell_type": "code",
   "execution_count": null,
   "metadata": {},
   "outputs": [],
   "source": [
    "include(\"firsticp.jl\")"
   ]
  },
  {
   "cell_type": "code",
   "execution_count": null,
   "metadata": {},
   "outputs": [],
   "source": [
    "half_b_sc = scaleMesh(half_b,10);\n",
    "half_b_rot_sc = scaleMesh(half_b_rot,10);"
   ]
  },
  {
   "cell_type": "code",
   "execution_count": null,
   "metadata": {},
   "outputs": [],
   "source": [
    "vis = Visualizer();"
   ]
  },
  {
   "cell_type": "code",
   "execution_count": null,
   "metadata": {},
   "outputs": [],
   "source": [
    "open(vis)\n",
    "#IJuliaCell(vis)"
   ]
  },
  {
   "cell_type": "code",
   "execution_count": null,
   "metadata": {},
   "outputs": [],
   "source": [
    "placeMeshInLife(vis,half_b_sc,\"hbunny\",\"darkred\");"
   ]
  },
  {
   "cell_type": "code",
   "execution_count": null,
   "metadata": {},
   "outputs": [],
   "source": [
    "placeMeshInLife(vis,half_b_rot_sc,\"rotbunny\",\"olivedrab2\")"
   ]
  },
  {
   "cell_type": "markdown",
   "metadata": {},
   "source": [
    "## New workflow\n",
    "Using arrays (bármilyen lehessen: SArray, CuArray, Array)\n",
    "\n",
    "Ötlet: amíg lehet csak az az indexeket használni és csak ahol muszáj, ott számolni a konkrét mátrixokkal\n",
    "### Workflow lépései:\n",
    "1. [x] reading és ref mesh-t tömbbé alakítani\n",
    "1. [x] a teljes referencia tömbből kd-tree\n",
    "### Iteráció\n",
    "1. [x] reading tömbből sampling\n",
    "1. [x] samplinged tömbhöz párkeresés a fából\n",
    "1. ##### Worst `x`% rejection\n",
    "  * [x] párok sorbarendezése távolság szerint\n",
    "  * [x] a sorbarendezett párok `x`%-nak kidobása\n",
    "1. ##### 2.5sigma rejection\n",
    "  * [ ] szórás számítása\n",
    "  * [ ] 2.5 sigmánál nagyobbak kidobása\n",
    "1. [x] kvaternió magic\n",
    "1. [x] transzformáció a megoldással\n",
    "1. [ ] transzformáció mentése vizualizációhoz\n",
    "1. [ ] kilépési feltétel check\n",
    "\n",
    "### Iteráció vége\n",
    "\n",
    "11. [ ] place in MeshCat\n",
    "12. [ ] animate in MeshCat\n",
    "\n",
    "\n",
    "## TODOs:\n",
    "* vizualizáció\n",
    "* animáció"
   ]
  },
  {
   "cell_type": "markdown",
   "metadata": {},
   "source": [
    "### Newnew workflow with matrix instead of array of array"
   ]
  },
  {
   "cell_type": "code",
   "execution_count": null,
   "metadata": {},
   "outputs": [],
   "source": [
    "#Workflow: (reading, reference)\n",
    "#Input meshes/pointclouds\n",
    "reference_pc = deepcopy(half_b_sc);\n",
    "reading_pc = noisifyMesh(half_b_rot_sc);\n",
    "\n",
    "#Creating matrixes\n",
    "ref_mat = makeMatrixFromMesh(vertices(reference_pc));\n",
    "red_mat = makeMatrixFromMesh(vertices(reading_pc));\n",
    "\n",
    "#Transposed reference matrix\n",
    "ref_mtp = giveTranspose(ref_mat)\n",
    "red_mtp = giveTranspose(red_mat)\n",
    "\n",
    "#Building KD tree for the whole ref array (transposed matrix must be used)\n",
    "#kdtree_ref = KDTree(ref_mtp);"
   ]
  },
  {
   "cell_type": "code",
   "execution_count": null,
   "metadata": {},
   "outputs": [],
   "source": [
    "#si_red = randomSampleIndexes(50, red_mtp, 2);\n",
    "#pairing the points in the two meshes\n",
    "#indM, traitM = createKnnPairArray(red_mtp[:,si_red], kdtree_ref);\n",
    "#sorting the indexes by the distances in the trait matrix\n",
    "#dist_arr = @view traitM[:,2]\n",
    "#s_indM, s_it = sortIndexes(indM, dist_arr);\n",
    "#remove the worst %\n",
    "#ch_ind, ch_it = chopEndOfArray(20, s_indM,s_it);"
   ]
  },
  {
   "cell_type": "code",
   "execution_count": null,
   "metadata": {},
   "outputs": [],
   "source": [
    "#Make some iterations\n",
    "#input: ref_mat, red_mat\n",
    "function itera(reff,redd,itnum)\n",
    "    reffTP = giveTranspose(reff)\n",
    "    reddTP = giveTranspose(redd)\n",
    "    kdtree_ref = KDTree(reffTP)\n",
    "    #iterate from here\n",
    "    for i in 1:itnum\n",
    "        si = randomSampleIndexes(20,size(reffTP,1))\n",
    "        indM, traitM = createKnnPairArray(reffTP[:,si], kdtree_ref)\n",
    "        dist_arr = @view traitM[:,2]\n",
    "        s_indM, s_it = sortIndexes(indM, dist_arr)\n",
    "        #remove the worst %\n",
    "        ch_ind, ch_it = chopEndOfArray(20, s_indM,s_it)\n",
    "        ref_view = @view reff[s_indM[1:end,1],:]\n",
    "        red_view = @view redd[s_indM[1:end,2],:]\n",
    "        #@show ref_view\n",
    "        global R = bestRot(red_view,ref_view)\n",
    "        mu_ref = CoM(reff)\n",
    "        mu_red = CoM(redd)\n",
    "        global qt = mu_ref - R * mu_red\n",
    "        \n",
    "    end\n",
    "    return R, qt\n",
    "end"
   ]
  },
  {
   "cell_type": "markdown",
   "metadata": {},
   "source": [
    "# Again new"
   ]
  },
  {
   "cell_type": "code",
   "execution_count": null,
   "metadata": {},
   "outputs": [],
   "source": [
    "#input: reading és reference\n",
    "#homogén koordináták: oszlopvektorok egymás mellé helyezve\n",
    "reference_pc = deepcopy(half_b_sc);\n",
    "reading_pc = noisifyMesh(half_b_rot_sc);\n",
    "#Homogeneous vectors\n",
    "refA = convert2HomCoordMatrix(vertices(reference_pc));\n",
    "redA = convert2HomCoordMatrix(vertices(reading_pc));\n",
    "#kd tree\n",
    "kdtree_ref = KDTree(refA);"
   ]
  },
  {
   "cell_type": "code",
   "execution_count": null,
   "metadata": {},
   "outputs": [],
   "source": [
    "#here starts the iteration\n",
    "pairPC = 30; #using the pairPC percent of the pairs\n",
    "rmPC = 20; #remove the rmPC % worst pairs\n",
    "ri = randomSampleIndexes(pairPC,refA,2); #random indexes\n",
    "indM, traitM = createKnnPairArray(redA[:,ri], kdtree_ref); #pairing the points, here @view can't be used\n",
    "#different rejection methods come here\n",
    "    distA = @view traitM[:,2];\n",
    "    sindM, sit = sortIndexes(indM, distA);\n",
    "    #reject the % worst\n",
    "    chind, chit = chopEndOfArray(rmPC, sindM, sit);\n",
    "    refV = @view refA[1:3,chind[1:end,1]];\n",
    "    redV = @view redA[1:3,chind[1:end,2]];\n",
    "#refV and redV contains the paired and filtered points\n",
    "mu_ref = CoM(refV, 1);\n",
    "mu_red = CoM(redV, 1);\n",
    "# cross-cov. mat.\n",
    "sigma = crosscovMat(redV, refV, mu_red, mu_ref);\n",
    "# the best rotation matrix\n",
    "rMat = bestRotMat(sigma);\n",
    "# best translation vector\n",
    "bTr = mu_ref - rMat*mu_red;\n",
    "homTR  = [rMat bTr ; 0 0 0 1]"
   ]
  },
  {
   "cell_type": "code",
   "execution_count": null,
   "metadata": {},
   "outputs": [],
   "source": [
    "#p is the reading, x is the reference\n",
    "#the inverse of the returned matrix should be used\n",
    "function useAll(p, x)\n",
    "    mu_p = CoM(p,1)\n",
    "    mu_x = CoM(x,1)\n",
    "    Sigma = crosscovMat(p, x, mu_p, mu_x)\n",
    "    rM = bestRotMat(Sigma)\n",
    "    bTr = mu_x - rM*mu_p\n",
    "    return [rM bTr; 0 0 0 1]\n",
    "end   "
   ]
  },
  {
   "cell_type": "code",
   "execution_count": null,
   "metadata": {},
   "outputs": [],
   "source": [
    "# dummy test\n",
    "hMat = useAll(refA[1:3,:],redA[1:3,:])\n",
    "r2Arr =  inv(hMat) * redA\n",
    "rtMi = makeMeshfromMatrix(r2Arr[1:3,:])\n",
    "placeMeshInLife(vis, rtMi, \"inversed\", \"orange\")"
   ]
  }
 ],
 "metadata": {
  "kernelspec": {
   "display_name": "Julia 1.0.1",
   "language": "julia",
   "name": "julia-1.0"
  },
  "language_info": {
   "file_extension": ".jl",
   "mimetype": "application/julia",
   "name": "julia",
   "version": "1.0.1"
  }
 },
 "nbformat": 4,
 "nbformat_minor": 2
}
