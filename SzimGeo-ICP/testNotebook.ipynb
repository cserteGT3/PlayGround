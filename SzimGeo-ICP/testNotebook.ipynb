{
 "cells": [
  {
   "cell_type": "code",
   "execution_count": 1,
   "metadata": {},
   "outputs": [],
   "source": [
    "#using Markdown; Markdown.parse_file(\"README.md\")"
   ]
  },
  {
   "cell_type": "code",
   "execution_count": 2,
   "metadata": {},
   "outputs": [
    {
     "data": {
      "text/html": [
       "    <script class='js-collapse-script'>\n",
       "        var curMatch =\n",
       "            window.location.href\n",
       "            .match(/(.*?)\\/notebooks\\/.*\\.ipynb/);\n",
       "\n",
       "        curMatch = curMatch ||\n",
       "            window.location.href\n",
       "            .match(/(.*?)\\/apps\\/.*\\.ipynb/);\n",
       "\n",
       "        if ( curMatch ) {\n",
       "            $('head').append('<base href=\"' + curMatch[1] + '/\">');\n",
       "        }\n",
       "    </script>\n"
      ],
      "text/plain": [
       "HTML{String}(\"    <script class='js-collapse-script'>\\n        var curMatch =\\n            window.location.href\\n            .match(/(.*?)\\\\/notebooks\\\\/.*\\\\.ipynb/);\\n\\n        curMatch = curMatch ||\\n            window.location.href\\n            .match(/(.*?)\\\\/apps\\\\/.*\\\\.ipynb/);\\n\\n        if ( curMatch ) {\\n            \\$('head').append('<base href=\\\"' + curMatch[1] + '/\\\">');\\n        }\\n    </script>\\n\")"
      ]
     },
     "metadata": {},
     "output_type": "display_data"
    },
    {
     "data": {
      "text/html": [
       "<script class='js-collapse-script' src='/assetserver/65cd0904e96181bb5e062bd005a20f140d5e7005-assets/webio/dist/bundle.js'></script>"
      ],
      "text/plain": [
       "HTML{String}(\"<script class='js-collapse-script' src='/assetserver/65cd0904e96181bb5e062bd005a20f140d5e7005-assets/webio/dist/bundle.js'></script>\")"
      ]
     },
     "metadata": {},
     "output_type": "display_data"
    },
    {
     "data": {
      "text/html": [
       "<script class='js-collapse-script' src='/assetserver/65cd0904e96181bb5e062bd005a20f140d5e7005-assets/providers/ijulia_setup.js'></script>"
      ],
      "text/plain": [
       "HTML{String}(\"<script class='js-collapse-script' src='/assetserver/65cd0904e96181bb5e062bd005a20f140d5e7005-assets/providers/ijulia_setup.js'></script>\")"
      ]
     },
     "metadata": {},
     "output_type": "display_data"
    },
    {
     "data": {
      "text/html": [
       "  <script class='js-collapse-script'>\n",
       "    $('.js-collapse-script').parent('.output_subarea').css('padding', '0');\n",
       "  </script>\n"
      ],
      "text/plain": [
       "HTML{String}(\"  <script class='js-collapse-script'>\\n    \\$('.js-collapse-script').parent('.output_subarea').css('padding', '0');\\n  </script>\\n\")"
      ]
     },
     "metadata": {},
     "output_type": "display_data"
    },
    {
     "name": "stderr",
     "output_type": "stream",
     "text": [
      "┌ Info: MODEL_FOLDER set to C:\\Users\\cstamas\\gdrive-csertegt\\BME-GPK\\Programok\\ICP-models\n",
      "└ @ Main C:\\Users\\cstamas\\Documents\\SZTAKI\\PlayGround\\SzimGeo-ICP\\heavyloadings.jl:17\n"
     ]
    }
   ],
   "source": [
    "MODEL_PATH_KEY = :wNB;\n",
    "const FLTYPE = Float32;\n",
    "include(\"heavyloadings.jl\");"
   ]
  },
  {
   "cell_type": "code",
   "execution_count": 3,
   "metadata": {},
   "outputs": [],
   "source": [
    "half_b = load(MODEL_FOLDER*\"\\\\bunny\\\\half_bunny_unmod.ply\");\n",
    "half_b_rot = load(MODEL_FOLDER*\"\\\\bunny\\\\half_bunny_rot1.ply\");"
   ]
  },
  {
   "cell_type": "code",
   "execution_count": 4,
   "metadata": {},
   "outputs": [
    {
     "data": {
      "text/plain": [
       "sortIndandTraits"
      ]
     },
     "execution_count": 4,
     "metadata": {},
     "output_type": "execute_result"
    }
   ],
   "source": [
    "include(\"firsticp.jl\")"
   ]
  },
  {
   "cell_type": "code",
   "execution_count": 5,
   "metadata": {},
   "outputs": [],
   "source": [
    "half_b_sc = scaleMesh(half_b,10);\n",
    "half_b_rot_sc = scaleMesh(half_b_rot,10);"
   ]
  },
  {
   "cell_type": "code",
   "execution_count": 6,
   "metadata": {
    "scrolled": false
   },
   "outputs": [
    {
     "ename": "UndefVarError",
     "evalue": "UndefVarError: vis not defined",
     "output_type": "error",
     "traceback": [
      "UndefVarError: vis not defined",
      "",
      "Stacktrace:",
      " [1] top-level scope at In[6]:1"
     ]
    }
   ],
   "source": [
    "IJuliaCell(vis)"
   ]
  },
  {
   "cell_type": "code",
   "execution_count": 7,
   "metadata": {},
   "outputs": [
    {
     "ename": "UndefVarError",
     "evalue": "UndefVarError: vis not defined",
     "output_type": "error",
     "traceback": [
      "UndefVarError: vis not defined",
      "",
      "Stacktrace:",
      " [1] top-level scope at In[7]:1"
     ]
    }
   ],
   "source": [
    "placeMeshInLife(vis,half_b_sc,\"hbunny\",\"darkred\");\n",
    "placeMeshInLife(vis,half_b_rot_sc,\"rotbunny\",\"olivedrab2\")"
   ]
  },
  {
   "cell_type": "markdown",
   "metadata": {},
   "source": [
    "## Old workflow\n",
    "Every array is using `Point3f0`\n",
    "\n",
    "```julia\n",
    "#Workflow: (reading, reference)\n",
    "#Input meshes/pointclouds\n",
    "reference_pc = deepcopy(half_b_sc);\n",
    "reading_pc = noisifyMesh(half_b_rot_sc);\n",
    "#Arrays of Point3f0\n",
    "reference_array = vertices(reference_pc);\n",
    "reading_array = vertices(reading_pc);\n",
    "#KD tree for the reference array\n",
    "#kdtree_ref = KDTree(reference_array);\n",
    "\n",
    "#Sampling random elements from the reference array\n",
    "sampled_points_ref = randomSamplePoints(reference_array,0.5);\n",
    "#Building KD tree for the sampled points\n",
    "kdtree_sampled_ref = KDTree(sampled_points_ref);\n",
    "\n",
    "#pairing the points in the two meshes\n",
    "indexer,fl_traits = createKnnPairArray(reading_array,kdtree_sampled_ref,sampled_points_ref,true);\n",
    "#rejecting the worst 20% based on the distance\n",
    "rej_is,rej_fltrs = rejectWorstPercent(indexer,fl_traits,0.2);\n",
    "```"
   ]
  },
  {
   "cell_type": "markdown",
   "metadata": {},
   "source": [
    "## New workflow\n",
    "Using Homogeneous vector instead of `Point3f0`\n",
    "### Workflow lépései:\n",
    "1. [x] reading és ref mesh-t homogén koordinátás SVector/MVector**(?)** tömbbé alakítani\n",
    "1. [x] a teljes referencia tömbből kd-tree\n",
    "### Iteráció\n",
    "1. [x] reading tömbből sampling\n",
    "1. [x] samplinged tömbhöz párkeresés a fából\n",
    "1. ##### Worst `x`% rejection\n",
    "  * [x] párok sorbarendezése távolság szerint\n",
    "  * [x] a sorbarendezett párok `x`%-nak kidobása\n",
    "1. ##### 2.5sigma rejection\n",
    "  * [ ] szórás számítása\n",
    "  * [ ] 2.5 sigmánál nagyobbak kidobása\n",
    "1. [ ] A\\b összeállítása és megoldása\n",
    "1. [ ] transzformáció a megoldással\n",
    "1. [ ] transzformáció mentése vizualizációhoz\n",
    "1. [ ] kilépési feltétel check\n",
    "\n",
    "### Iteráció vége\n",
    "\n",
    "11. [ ] place in MeshCat\n",
    "12. [ ] animate in MeshCat\n"
   ]
  },
  {
   "cell_type": "code",
   "execution_count": 8,
   "metadata": {},
   "outputs": [
    {
     "name": "stderr",
     "output_type": "stream",
     "text": [
      "┌ Info: The white noise scaling factor is 0.014079800248146057\n",
      "└ @ Main C:\\Users\\cstamas\\Documents\\SZTAKI\\PlayGround\\SzimGeo-ICP\\firsticp.jl:100\n"
     ]
    }
   ],
   "source": [
    "#Workflow: (reading, reference)\n",
    "#Input meshes/pointclouds\n",
    "reference_pc = deepcopy(half_b_sc);\n",
    "reading_pc = noisifyMesh(half_b_rot_sc);\n",
    "#Arrays of SVector\n",
    "reference_array = convert2HomogeneousArray(vertices(reference_pc),FLTYPE);\n",
    "reading_array = convert2HomogeneousArray(vertices(reading_pc),FLTYPE);\n",
    "#Sampling random elements from the reference and the reading array\n",
    "sampled_points_ref = randomSamplePoints(reference_array,50);\n",
    "sampled_points_red = randomSamplePoints(reading_array,50);\n",
    "#Building KD tree for the sampled ref points and the whole ref array\n",
    "kdtree_sampled_ref = KDTree(sampled_points_ref);\n",
    "kdtree_ref = KDTree(reference_array);\n",
    "#pairing the points in the two meshes\n",
    "indM, traitM = createKnnPairArray(sampled_points_red,kdtree_ref);\n",
    "#sorting the indexes by the distances in the trait matrix\n",
    "s_indM, s_it = sortIndexes(indM, traitM[:,2]);"
   ]
  }
 ],
 "metadata": {
  "kernelspec": {
   "display_name": "Julia 1.0.1",
   "language": "julia",
   "name": "julia-1.0"
  },
  "language_info": {
   "file_extension": ".jl",
   "mimetype": "application/julia",
   "name": "julia",
   "version": "1.0.1"
  }
 },
 "nbformat": 4,
 "nbformat_minor": 2
}
