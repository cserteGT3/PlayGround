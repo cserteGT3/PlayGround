{
 "cells": [
  {
   "cell_type": "code",
   "execution_count": null,
   "metadata": {},
   "outputs": [],
   "source": [
    "#using Markdown; Markdown.parse_file(\"README.md\")"
   ]
  },
  {
   "cell_type": "code",
   "execution_count": null,
   "metadata": {},
   "outputs": [],
   "source": [
    "MODEL_PATH_KEY = :wNB;\n",
    "const FLTYPE = Float32;\n",
    "include(\"heavyloadings.jl\");"
   ]
  },
  {
   "cell_type": "code",
   "execution_count": null,
   "metadata": {},
   "outputs": [],
   "source": [
    "half_b = load(MODEL_FOLDER*\"\\\\bunny\\\\half_bunny_unmod.ply\");\n",
    "half_b_rot = load(MODEL_FOLDER*\"\\\\bunny\\\\half_bunny_rot1.ply\");"
   ]
  },
  {
   "cell_type": "code",
   "execution_count": null,
   "metadata": {},
   "outputs": [],
   "source": [
    "include(\"firsticp.jl\")"
   ]
  },
  {
   "cell_type": "code",
   "execution_count": null,
   "metadata": {},
   "outputs": [],
   "source": [
    "half_b_sc = scaleMesh(half_b,10);\n",
    "half_b_rot_sc = scaleMesh(half_b_rot,10);"
   ]
  },
  {
   "cell_type": "code",
   "execution_count": null,
   "metadata": {
    "scrolled": false
   },
   "outputs": [],
   "source": [
    "IJuliaCell(vis)"
   ]
  },
  {
   "cell_type": "code",
   "execution_count": null,
   "metadata": {},
   "outputs": [],
   "source": [
    "placeMeshInLife(vis,half_b_sc,\"hbunny\",\"darkred\");\n",
    "placeMeshInLife(vis,half_b_rot_sc,\"rotbunny\",\"olivedrab2\")"
   ]
  },
  {
   "cell_type": "markdown",
   "metadata": {},
   "source": [
    "## Old workflow\n",
    "Every array is using `Point3f0`\n",
    "\n",
    "```julia\n",
    "#Workflow: (reading, reference)\n",
    "#Input meshes/pointclouds\n",
    "reference_pc = deepcopy(half_b_sc);\n",
    "reading_pc = noisifyMesh(half_b_rot_sc);\n",
    "#Arrays of Point3f0\n",
    "reference_array = vertices(reference_pc);\n",
    "reading_array = vertices(reading_pc);\n",
    "#KD tree for the reference array\n",
    "#kdtree_ref = KDTree(reference_array);\n",
    "\n",
    "#Sampling random elements from the reference array\n",
    "sampled_points_ref = randomSamplePoints(reference_array,0.5);\n",
    "#Building KD tree for the sampled points\n",
    "kdtree_sampled_ref = KDTree(sampled_points_ref);\n",
    "\n",
    "#pairing the points in the two meshes\n",
    "indexer,fl_traits = createKnnPairArray(reading_array,kdtree_sampled_ref,sampled_points_ref,true);\n",
    "#rejecting the worst 20% based on the distance\n",
    "rej_is,rej_fltrs = rejectWorstPercent(indexer,fl_traits,0.2);\n",
    "```"
   ]
  },
  {
   "cell_type": "markdown",
   "metadata": {},
   "source": [
    "## New workflow\n",
    "Using Homogeneous vector instead of `Point3f0`\n",
    "### Workflow lépései:\n",
    "1. [x] reading és ref mesh-t homogén koordinátás SVector/MVector**(?)** tömbbé alakítani\n",
    "1. [x] a teljes referencia tömbből kd-tree\n",
    "### Iteráció\n",
    "1. [x] reading tömbből sampling\n",
    "1. [x] samplinged tömbhöz párkeresés a fából\n",
    "1. ##### Worst `x`% rejection\n",
    "  * [ ] párok sorbarendezése távolság szerint\n",
    "  * [ ] a sorbarendezett párok `x`%-nak kidobása\n",
    "1. ##### 2.5sigma rejection\n",
    "  * [ ] szórás számítása\n",
    "  * [ ] 2.5 sigmánál nagyobbak kidobása\n",
    "1. [ ] A\\b összeállítása és megoldása\n",
    "1. [ ] transzformáció a megoldással\n",
    "1. [ ] transzformáció mentése vizualizációhoz\n",
    "1. [ ] kilépési feltétel check\n",
    "\n",
    "### Iteráció vége\n",
    "\n",
    "11. [ ] place in MeshCat\n",
    "12. [ ] animate in MeshCat\n"
   ]
  },
  {
   "cell_type": "code",
   "execution_count": null,
   "metadata": {},
   "outputs": [],
   "source": [
    "#Workflow: (reading, reference)\n",
    "#Input meshes/pointclouds\n",
    "reference_pc = deepcopy(half_b_sc);\n",
    "reading_pc = noisifyMesh(half_b_rot_sc);\n",
    "#Arrays of SVector\n",
    "reference_array = convert2HomogeneousArray(vertices(reference_pc),FLTYPE);\n",
    "reading_array = convert2HomogeneousArray(vertices(reading_pc),FLTYPE);\n",
    "#Sampling random elements from the reference and the reading array\n",
    "sampled_points_ref = randomSamplePoints(reference_array,0.5);\n",
    "sampled_points_red = randomSamplePoints(reading_array,0.5);\n",
    "#Building KD tree for the sampled ref points and the whole ref array\n",
    "kdtree_sampled_ref = KDTree(sampled_points_ref);\n",
    "kdtree_ref = KDTree(reference_array);"
   ]
  },
  {
   "cell_type": "code",
   "execution_count": null,
   "metadata": {},
   "outputs": [],
   "source": [
    "#pairing the points in the two meshes\n",
    "indexer,fl_traits = createKnnPairArray(sampled_points_red,kdtree_ref);"
   ]
  },
  {
   "cell_type": "code",
   "execution_count": null,
   "metadata": {},
   "outputs": [],
   "source": [
    "function sortIndandTraits(indexes,traits)\n",
    "    s_it = sortperm(traits[:,2])"
   ]
  },
  {
   "cell_type": "code",
   "execution_count": null,
   "metadata": {},
   "outputs": [],
   "source": [
    "iddi = 1:10;"
   ]
  },
  {
   "cell_type": "code",
   "execution_count": null,
   "metadata": {},
   "outputs": [],
   "source": [
    "println(euclidean.(sampled_points_red[iddi],reference_array[indexer[iddi]]))\n",
    "\n",
    "println(fl_traits[iddi,2])"
   ]
  },
  {
   "cell_type": "code",
   "execution_count": null,
   "metadata": {},
   "outputs": [],
   "source": [
    "sorter_it = sortperm(fl_traits[:,2]);"
   ]
  },
  {
   "cell_type": "code",
   "execution_count": null,
   "metadata": {},
   "outputs": [],
   "source": [
    "sorted_fl = fl_traits[sorter_it,:]; # sorted by distance"
   ]
  },
  {
   "cell_type": "code",
   "execution_count": null,
   "metadata": {},
   "outputs": [],
   "source": [
    "sorted_indexer = indexer[sorter_it,:];"
   ]
  },
  {
   "cell_type": "code",
   "execution_count": null,
   "metadata": {},
   "outputs": [],
   "source": [
    "iddi = 1:10"
   ]
  },
  {
   "cell_type": "code",
   "execution_count": null,
   "metadata": {},
   "outputs": [],
   "source": [
    "#how to get the paired points\n",
    "println(euclidean.(sampled_points_red[iddi],reference_array[indexer[iddi]]))\n",
    "println(fl_traits[iddi,2])"
   ]
  },
  {
   "cell_type": "code",
   "execution_count": null,
   "metadata": {},
   "outputs": [],
   "source": [
    "#how to get the paire points after sorting\n",
    "println(euclidean.(reference_array[sorted_indexer[iddi],1],sampled_points_red[sorted_indexer[iddi,2]]))\n",
    "println(sorted_fl[iddi,2])"
   ]
  },
  {
   "cell_type": "code",
   "execution_count": null,
   "metadata": {},
   "outputs": [],
   "source": [
    "#rejecting the worst 20% based on the distance\n",
    "rej_id, rej_fltrs = rejectWorstPercent(sorted_indexer,sorted_fl,0.2);"
   ]
  },
  {
   "cell_type": "code",
   "execution_count": null,
   "metadata": {},
   "outputs": [],
   "source": [
    "#how to get the paired point after rejection\n",
    "println(euclidean.(reference_array[rej_id[iddi],1],sampled_points_red[rej_id[iddi,2]]))\n",
    "println(rej_fltrs[iddi,2])"
   ]
  },
  {
   "cell_type": "code",
   "execution_count": null,
   "metadata": {},
   "outputs": [],
   "source": []
  }
 ],
 "metadata": {
  "kernelspec": {
   "display_name": "Julia 1.0.1",
   "language": "julia",
   "name": "julia-1.0"
  },
  "language_info": {
   "file_extension": ".jl",
   "mimetype": "application/julia",
   "name": "julia",
   "version": "1.0.1"
  }
 },
 "nbformat": 4,
 "nbformat_minor": 2
}
