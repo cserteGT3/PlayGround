{
 "cells": [
  {
   "cell_type": "code",
   "execution_count": null,
   "metadata": {},
   "outputs": [],
   "source": [
    "#using Markdown; Markdown.parse_file(\"README.md\")"
   ]
  },
  {
   "cell_type": "code",
   "execution_count": null,
   "metadata": {},
   "outputs": [],
   "source": [
    "MODEL_PATH_KEY = :wNB;\n",
    "const FLTYPE = Float32;\n",
    "include(\"heavyloadings.jl\");"
   ]
  },
  {
   "cell_type": "code",
   "execution_count": null,
   "metadata": {},
   "outputs": [],
   "source": [
    "half_b = load(MODEL_FOLDER*\"\\\\bunny\\\\half_bunny_unmod.ply\");\n",
    "half_b_rot = load(MODEL_FOLDER*\"\\\\bunny\\\\half_bunny_rot1.ply\");"
   ]
  },
  {
   "cell_type": "code",
   "execution_count": null,
   "metadata": {},
   "outputs": [],
   "source": [
    "include(\"firsticp.jl\")"
   ]
  },
  {
   "cell_type": "code",
   "execution_count": null,
   "metadata": {},
   "outputs": [],
   "source": [
    "half_b_sc = scaleMesh(half_b,10);\n",
    "half_b_rot_sc = scaleMesh(half_b_rot,10);"
   ]
  },
  {
   "cell_type": "code",
   "execution_count": null,
   "metadata": {},
   "outputs": [],
   "source": [
    "vis = Visualizer();"
   ]
  },
  {
   "cell_type": "code",
   "execution_count": null,
   "metadata": {},
   "outputs": [],
   "source": [
    "open(vis)\n",
    "#IJuliaCell(vis)"
   ]
  },
  {
   "cell_type": "code",
   "execution_count": null,
   "metadata": {},
   "outputs": [],
   "source": [
    "placeMeshInLife(vis,half_b_sc,\"hbunny\",\"darkred\");"
   ]
  },
  {
   "cell_type": "code",
   "execution_count": null,
   "metadata": {},
   "outputs": [],
   "source": [
    "placeMeshInLife(vis,half_b_rot_sc,\"rotbunny\",\"olivedrab2\")"
   ]
  },
  {
   "cell_type": "markdown",
   "metadata": {},
   "source": [
    "## Old workflow with \\ and fix Array type\n",
    "\n",
    "```julia\n",
    "function firstICP(ref_mesh, read_mesh, iternum; fltype = Float32, sampleN = 50, chopN = 20, v = true)\n",
    "    #Matrixes\n",
    "    ref_mat = convert2HomCoordMatrix(vertices(ref_mesh), fltype)\n",
    "    red_mat = convert2HomCoordMatrix(vertices(read_mesh), fltype)\n",
    "    #Transposed reference matrix\n",
    "    ref_mtp = giveTranspose(ref_mat)\n",
    "    red_mtp = giveTranspose(red_mat)\n",
    "\n",
    "    #Sampling random indexes for the reference and reading arrays\n",
    "    #si_ref = randomSampleIndexes(50, ref_mtp, 2)\n",
    "    #si_red = randomSampleIndexes(50, red_mtp, 2)\n",
    "\n",
    "    #Building KD tree for the whole ref array (transposed matrix must be used)\n",
    "    kdtree_ref = KDTree(ref_mtp);\n",
    "    \n",
    "    firstDict, ujar = basicIteration(red_mtp, kdtree_ref, ref_mat, iternum, sampleN=sampleN, chopN=chopN, v=v);\n",
    "    return firstDict, red_mtp, ujar\n",
    "end\n",
    "\n",
    "function basicIteration(read_vert, kdtree_r, ref_mhor, itnum; sampleN = 50, chopN = 20, v = true)\n",
    "    trDict = Dict{Int,Any}()\n",
    "    for i in 1:itnum\n",
    "        #selecting random % of the reading\n",
    "        si_red = randomSampleIndexes(sampleN, read_vert, 2);\n",
    "        #pairing the points in the two meshes\n",
    "        indM, traitM = createKnnPairArray(read_vert[:,si_red], kdtree_r);\n",
    "        #sorting the indexes by the distances in the trait matrix\n",
    "        s_indM, s_it = sortIndexes(indM, traitM[:,2]);\n",
    "        #remove the worst %\n",
    "        ch_ind, ch_it = chopEndOfArray(chopN, s_indM,s_it);\n",
    "        #make the transformation matrix\n",
    "        coordTR = transpose(read_vert[:,ch_ind[:,2]])\\ref_mhor[ch_ind[:,1],:];\n",
    "        #transzforálmi az mtp-t kell\n",
    "        coordTR[:,4] = [0,0,0,1]\n",
    "        read_vert = transpose(coordTR) * read_vert;\n",
    "        trDict[i] = coordTR\n",
    "        if v && i%100 == 0\n",
    "            print(\"\\r $i'th iteration\")\n",
    "        end\n",
    "    end\n",
    "    return trDict, read_vert\n",
    "end\n",
    "```"
   ]
  },
  {
   "cell_type": "markdown",
   "metadata": {},
   "source": [
    "## New workflow\n",
    "Using arrays (bármilyen lehessen: SArray, CuArray, Array)\n",
    "\n",
    "Ötlet: amíg lehet csak az az indexeket használni és csak ahol muszáj, ott számolni a konkrét mátrixokkal\n",
    "### Workflow lépései:\n",
    "1. [x] reading és ref mesh-t tömbbé alakítani\n",
    "1. [x] a teljes referencia tömbből kd-tree\n",
    "### Iteráció\n",
    "1. [x] reading tömbből sampling\n",
    "1. [x] samplinged tömbhöz párkeresés a fából\n",
    "1. ##### Worst `x`% rejection\n",
    "  * [x] párok sorbarendezése távolság szerint\n",
    "  * [x] a sorbarendezett párok `x`%-nak kidobása\n",
    "1. ##### 2.5sigma rejection\n",
    "  * [ ] szórás számítása\n",
    "  * [ ] 2.5 sigmánál nagyobbak kidobása\n",
    "1. [ ] kvaternió magic\n",
    "1. [ ] transzformáció a megoldással\n",
    "1. [ ] transzformáció mentése vizualizációhoz\n",
    "1. [ ] kilépési feltétel check\n",
    "\n",
    "### Iteráció vége\n",
    "\n",
    "11. [ ] place in MeshCat\n",
    "12. [ ] animate in MeshCat\n",
    "\n",
    "\n",
    "## TODOs:\n",
    "* újraírni a számolást\n",
    "* vizualizáció\n",
    "* animáció"
   ]
  },
  {
   "cell_type": "markdown",
   "metadata": {},
   "source": [
    "### Newnew workflow with matrix instead of array of array"
   ]
  },
  {
   "cell_type": "code",
   "execution_count": null,
   "metadata": {},
   "outputs": [],
   "source": [
    "#Workflow: (reading, reference)\n",
    "#Input meshes/pointclouds\n",
    "reference_pc = deepcopy(half_b_sc);\n",
    "reading_pc = noisifyMesh(half_b_rot_sc);\n",
    "\n",
    "#Creating matrixes\n",
    "ref_mat = makeMatrixFromMesh(vertices(reference_pc));\n",
    "red_mat = makeMatrixFromMesh(vertices(reading_pc));\n",
    "\n",
    "#Transposed reference matrix\n",
    "ref_mtp = giveTranspose(ref_mat)\n",
    "red_mtp = giveTranspose(red_mat)\n",
    "\n",
    "#Building KD tree for the whole ref array (transposed matrix must be used)\n",
    "kdtree_ref = KDTree(ref_mtp);"
   ]
  },
  {
   "cell_type": "code",
   "execution_count": null,
   "metadata": {},
   "outputs": [],
   "source": [
    "si_red = randomSampleIndexes(50, red_mtp, 2);\n",
    "#pairing the points in the two meshes\n",
    "indM, traitM = createKnnPairArray(red_mtp[:,si_red], kdtree_ref);\n",
    "#sorting the indexes by the distances in the trait matrix\n",
    "dist_arr = @view traitM[:,2]\n",
    "s_indM, s_it = sortIndexes(indM, dist_arr);\n",
    "#remove the worst %\n",
    "ch_ind, ch_it = chopEndOfArray(20, s_indM,s_it);"
   ]
  },
  {
   "cell_type": "code",
   "execution_count": null,
   "metadata": {},
   "outputs": [],
   "source": []
  }
 ],
 "metadata": {
  "kernelspec": {
   "display_name": "Julia 1.0.1",
   "language": "julia",
   "name": "julia-1.0"
  },
  "language_info": {
   "file_extension": ".jl",
   "mimetype": "application/julia",
   "name": "julia",
   "version": "1.0.1"
  }
 },
 "nbformat": 4,
 "nbformat_minor": 2
}
