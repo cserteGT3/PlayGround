{
 "cells": [
  {
   "cell_type": "code",
   "execution_count": null,
   "metadata": {},
   "outputs": [],
   "source": [
    "#using Markdown; Markdown.parse_file(\"README.md\")"
   ]
  },
  {
   "cell_type": "code",
   "execution_count": null,
   "metadata": {},
   "outputs": [],
   "source": [
    "MODEL_PATH_KEY = :hNB;\n",
    "include(\"heavyloadings.jl\");"
   ]
  },
  {
   "cell_type": "code",
   "execution_count": null,
   "metadata": {},
   "outputs": [],
   "source": [
    "half_b = load(MODEL_FOLDER*\"\\\\bunny\\\\half_bunny_unmod.ply\");\n",
    "half_b_rot = load(MODEL_FOLDER*\"\\\\bunny\\\\half_bunny_rot1.ply\");"
   ]
  },
  {
   "cell_type": "code",
   "execution_count": null,
   "metadata": {},
   "outputs": [],
   "source": [
    "include(\"firsticp.jl\")"
   ]
  },
  {
   "cell_type": "code",
   "execution_count": null,
   "metadata": {},
   "outputs": [],
   "source": [
    "half_b_sc = scaleMesh(half_b,10);\n",
    "half_b_rot_sc = scaleMesh(half_b_rot,10);"
   ]
  },
  {
   "cell_type": "code",
   "execution_count": null,
   "metadata": {
    "scrolled": false
   },
   "outputs": [],
   "source": [
    "IJuliaCell(vis)"
   ]
  },
  {
   "cell_type": "code",
   "execution_count": null,
   "metadata": {},
   "outputs": [],
   "source": [
    "placeMeshInLife(vis,half_b_sc,\"hbunny\",\"darkred\");\n",
    "placeMeshInLife(vis,half_b_rot_sc,\"rotbunny\",\"olivedrab2\")"
   ]
  },
  {
   "cell_type": "code",
   "execution_count": null,
   "metadata": {},
   "outputs": [],
   "source": [
    "#noisd_bun = noisifyMesh(half_b,wfactor=0.5);\n",
    "#noisd_bun_10 = noisifyMesh(half_b,wfactor=1.5);\n",
    "#placeMeshInLife(vis,noisd_bun,\"n_bun\",\"blue\")\n",
    "#placeMeshInLife(vis,noisd_bun_10,\"n_bun10\")"
   ]
  },
  {
   "cell_type": "code",
   "execution_count": null,
   "metadata": {},
   "outputs": [],
   "source": [
    "#Workflow: (reading, reference)\n",
    "#Input meshes/pointclouds\n",
    "reference_pc = deepcopy(half_b_sc);\n",
    "reading_pc = noisifyMesh(half_b_rot_sc);\n",
    "#Arrays of Point3f0\n",
    "reference_array = vertices(reference_pc);\n",
    "reading_array = vertices(reading_pc);\n",
    "#KD tree for the reference array\n",
    "kdtree_ref = KDTree(reference_array);"
   ]
  },
  {
   "cell_type": "code",
   "execution_count": null,
   "metadata": {},
   "outputs": [],
   "source": [
    "#Sampling random elements from the reference array\n",
    "sampled_points = randomSamplePoints(reference_array,0.5);\n",
    "#Building KD tree for the sampled points\n",
    "kdtree_sampled_ref = KDTree(sampled_points);\n",
    "\n",
    "#pairing the meshes\n",
    "indexer,fl_traits = createKnnPairArray(reading_array,kdtree_sampled_ref,sampled_points);"
   ]
  },
  {
   "cell_type": "code",
   "execution_count": null,
   "metadata": {},
   "outputs": [],
   "source": []
  }
 ],
 "metadata": {
  "kernelspec": {
   "display_name": "Julia 1.0.1",
   "language": "julia",
   "name": "julia-1.0"
  },
  "language_info": {
   "file_extension": ".jl",
   "mimetype": "application/julia",
   "name": "julia",
   "version": "1.0.1"
  }
 },
 "nbformat": 4,
 "nbformat_minor": 2
}
