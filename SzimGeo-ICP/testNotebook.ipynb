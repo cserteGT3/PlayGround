{
 "cells": [
  {
   "cell_type": "code",
   "execution_count": null,
   "metadata": {},
   "outputs": [],
   "source": [
    "#using Markdown; Markdown.parse_file(\"README.md\")"
   ]
  },
  {
   "cell_type": "code",
   "execution_count": 1,
   "metadata": {},
   "outputs": [
    {
     "data": {
      "text/html": [
       "    <script class='js-collapse-script'>\n",
       "        var curMatch =\n",
       "            window.location.href\n",
       "            .match(/(.*?)\\/notebooks\\/.*\\.ipynb/);\n",
       "\n",
       "        curMatch = curMatch ||\n",
       "            window.location.href\n",
       "            .match(/(.*?)\\/apps\\/.*\\.ipynb/);\n",
       "\n",
       "        if ( curMatch ) {\n",
       "            $('head').append('<base href=\"' + curMatch[1] + '/\">');\n",
       "        }\n",
       "    </script>\n"
      ],
      "text/plain": [
       "HTML{String}(\"    <script class='js-collapse-script'>\\n        var curMatch =\\n            window.location.href\\n            .match(/(.*?)\\\\/notebooks\\\\/.*\\\\.ipynb/);\\n\\n        curMatch = curMatch ||\\n            window.location.href\\n            .match(/(.*?)\\\\/apps\\\\/.*\\\\.ipynb/);\\n\\n        if ( curMatch ) {\\n            \\$('head').append('<base href=\\\"' + curMatch[1] + '/\\\">');\\n        }\\n    </script>\\n\")"
      ]
     },
     "metadata": {},
     "output_type": "display_data"
    },
    {
     "data": {
      "text/html": [
       "<script class='js-collapse-script' src='/assetserver/33d8e901bccf13fac58b1bf6ca4086fe426e7a3f-assets/webio/dist/bundle.js'></script>"
      ],
      "text/plain": [
       "HTML{String}(\"<script class='js-collapse-script' src='/assetserver/33d8e901bccf13fac58b1bf6ca4086fe426e7a3f-assets/webio/dist/bundle.js'></script>\")"
      ]
     },
     "metadata": {},
     "output_type": "display_data"
    },
    {
     "data": {
      "text/html": [
       "<script class='js-collapse-script' src='/assetserver/33d8e901bccf13fac58b1bf6ca4086fe426e7a3f-assets/providers/ijulia_setup.js'></script>"
      ],
      "text/plain": [
       "HTML{String}(\"<script class='js-collapse-script' src='/assetserver/33d8e901bccf13fac58b1bf6ca4086fe426e7a3f-assets/providers/ijulia_setup.js'></script>\")"
      ]
     },
     "metadata": {},
     "output_type": "display_data"
    },
    {
     "data": {
      "text/html": [
       "  <script class='js-collapse-script'>\n",
       "    $('.js-collapse-script').parent('.output_subarea').css('padding', '0');\n",
       "  </script>\n"
      ],
      "text/plain": [
       "HTML{String}(\"  <script class='js-collapse-script'>\\n    \\$('.js-collapse-script').parent('.output_subarea').css('padding', '0');\\n  </script>\\n\")"
      ]
     },
     "metadata": {},
     "output_type": "display_data"
    },
    {
     "name": "stderr",
     "output_type": "stream",
     "text": [
      "┌ Info: Visualizer started: vis\n",
      "└ @ Main C:\\Users\\Laci\\Documents\\GIT\\PlayGround\\SzimGeo-ICP\\heavyloadings.jl:9\n",
      "┌ Info: MODEL_FOLDER set to C:\\Users\\Laci\\gdrive-cstamas\\BME-GPK\\Programok\\ICP-models\n",
      "└ @ Main C:\\Users\\Laci\\Documents\\GIT\\PlayGround\\SzimGeo-ICP\\heavyloadings.jl:18\n"
     ]
    }
   ],
   "source": [
    "MODEL_PATH_KEY = :hPC;\n",
    "const FLTYPE = Float32;\n",
    "include(\"heavyloadings.jl\");"
   ]
  },
  {
   "cell_type": "code",
   "execution_count": 2,
   "metadata": {},
   "outputs": [],
   "source": [
    "half_b = load(MODEL_FOLDER*\"\\\\bunny\\\\half_bunny_unmod.ply\");\n",
    "half_b_rot = load(MODEL_FOLDER*\"\\\\bunny\\\\half_bunny_rot1.ply\");"
   ]
  },
  {
   "cell_type": "code",
   "execution_count": 3,
   "metadata": {},
   "outputs": [
    {
     "data": {
      "text/plain": [
       "giveTranspose"
      ]
     },
     "execution_count": 3,
     "metadata": {},
     "output_type": "execute_result"
    }
   ],
   "source": [
    "include(\"firsticp.jl\")"
   ]
  },
  {
   "cell_type": "code",
   "execution_count": 4,
   "metadata": {},
   "outputs": [
    {
     "name": "stderr",
     "output_type": "stream",
     "text": [
      "WARNING: both GeometryTypes and Interact export \"height\"; uses of it in module Main must be qualified\n",
      "WARNING: both GeometryTypes and Interact export \"width\"; uses of it in module Main must be qualified\n",
      "WARNING: both CSSUtil and Base export \"empty\"; uses of it in module Interact must be qualified\n"
     ]
    }
   ],
   "source": [
    "half_b_sc = scaleMesh(half_b,10);\n",
    "half_b_rot_sc = scaleMesh(half_b_rot,10);"
   ]
  },
  {
   "cell_type": "code",
   "execution_count": 49,
   "metadata": {
    "scrolled": false
   },
   "outputs": [
    {
     "data": {
      "text/html": [
       "<div class='display:none'></div><unsafe-script style='display:none'>\n",
       "WebIO.mount(this.previousSibling,{&quot;props&quot;:{},&quot;nodeType&quot;:&quot;Scope&quot;,&quot;type&quot;:&quot;node&quot;,&quot;instanceArgs&quot;:{&quot;imports&quot;:{&quot;data&quot;:[],&quot;type&quot;:&quot;async_block&quot;},&quot;id&quot;:&quot;scope-249ff393-6754-4ed0-90ed-b1f0e54631c9&quot;,&quot;handlers&quot;:{&quot;_promises&quot;:{&quot;importsLoaded&quot;:[function () {\n",
       "    var frame = this.dom.querySelector(&quot;#ifr&quot;);\n",
       "    var doc = frame.contentDocument\n",
       "    var win = frame.contentWindow\n",
       "\n",
       "    // Ensure that the iframe&#39;s baseURI matches the baseURI of the\n",
       "    // outer document. This is necessary to resolve\n",
       "    // https://github.com/JuliaGizmos/WebIO.jl/issues/167\n",
       "    var base = doc.createElement(&quot;base&quot;);\n",
       "    base.setAttribute(&quot;href&quot;, document.baseURI);\n",
       "    doc.head.appendChild(base);\n",
       "\n",
       "    var webio = doc.createElement(&quot;script&quot;)\n",
       "    webio.src = &quot;/assetserver/33d8e901bccf13fac58b1bf6ca4086fe426e7a3f-assets/webio/dist/bundle.js&quot;\n",
       "    var parent = window\n",
       "\n",
       "    function resizeIframe() {\n",
       "        doc.body.style.padding = &#39;0&#39;\n",
       "        doc.body.style.margin = &#39;0&#39;\n",
       "        doc.documentElement.height = &#39;100%&#39;\n",
       "        doc.body.height = &#39;100%&#39;\n",
       "    }\n",
       "\n",
       "    webio.onload = function () {\n",
       "        win.WebIO.sendCallback = parent.WebIO.sendCallback; // Share stuff\n",
       "        win.WebIO.scopes = parent.WebIO.scopes\n",
       "        win.WebIO.obsscopes = parent.WebIO.obsscopes\n",
       "        win.WebIO._connected = true\n",
       "        doc.body.innerHTML = &quot;&lt;html&gt;&lt;body&gt;&quot; + &quot;&lt;div class=&#39;display:none&#39;&gt;&lt;/div&gt;&lt;unsafe-script style=&#39;display:none&#39;&gt;\\nWebIO.mount(this.previousSibling,{&amp;quot;props&amp;quot;:{},&amp;quot;nodeType&amp;quot;:&amp;quot;Scope&amp;quot;,&amp;quot;type&amp;quot;:&amp;quot;node&amp;quot;,&amp;quot;instanceArgs&amp;quot;:{&amp;quot;imports&amp;quot;:{&amp;quot;data&amp;quot;:[{&amp;quot;name&amp;quot;:null,&amp;quot;type&amp;quot;:&amp;quot;js&amp;quot;,&amp;quot;url&amp;quot;:&amp;quot;/assetserver/eb95a47d783e3a79a211bfcb909a624e163af45a-main.min.js&amp;quot;}],&amp;quot;type&amp;quot;:&amp;quot;async_block&amp;quot;},&amp;quot;id&amp;quot;:&amp;quot;scope-867fb24a-864a-4267-9ced-52989955ad08&amp;quot;,&amp;quot;handlers&amp;quot;:{&amp;quot;meshcat-command&amp;quot;:[(function (val){return this.viewer.handle_command_message({&amp;quot;data&amp;quot;:val})})],&amp;quot;_promises&amp;quot;:{&amp;quot;importsLoaded&amp;quot;:[(function (mc){var element=this.dom.children[0]; this.viewer=new mc.Viewer(element); WebIO.setval({&amp;quot;name&amp;quot;:&amp;quot;meshcat-request&amp;quot;,&amp;quot;scope&amp;quot;:&amp;quot;scope-867fb24a-864a-4267-9ced-52989955ad08&amp;quot;,&amp;quot;id&amp;quot;:&amp;quot;ob_02&amp;quot;,&amp;quot;type&amp;quot;:&amp;quot;observable&amp;quot;},String(Date.now())); return window.document.body.style.margin=&amp;quot;0&amp;quot;})]}},&amp;quot;systemjs_options&amp;quot;:null,&amp;quot;observables&amp;quot;:{&amp;quot;meshcat-command&amp;quot;:{&amp;quot;sync&amp;quot;:false,&amp;quot;id&amp;quot;:&amp;quot;ob_01&amp;quot;,&amp;quot;value&amp;quot;:[]},&amp;quot;meshcat-controls&amp;quot;:{&amp;quot;sync&amp;quot;:true,&amp;quot;id&amp;quot;:&amp;quot;ob_03&amp;quot;,&amp;quot;value&amp;quot;:[]},&amp;quot;meshcat-request&amp;quot;:{&amp;quot;sync&amp;quot;:true,&amp;quot;id&amp;quot;:&amp;quot;ob_02&amp;quot;,&amp;quot;value&amp;quot;:&amp;quot;&amp;quot;}}},&amp;quot;children&amp;quot;:[{&amp;quot;props&amp;quot;:{&amp;quot;className&amp;quot;:&amp;quot;meshcat-viewer&amp;quot;,&amp;quot;style&amp;quot;:{&amp;quot;left&amp;quot;:0,&amp;quot;right&amp;quot;:0,&amp;quot;overflow&amp;quot;:&amp;quot;hidden&amp;quot;,&amp;quot;position&amp;quot;:&amp;quot;absolute&amp;quot;,&amp;quot;height&amp;quot;:&amp;quot;100vh&amp;quot;,&amp;quot;margin&amp;quot;:0,&amp;quot;width&amp;quot;:&amp;quot;100vw&amp;quot;}},&amp;quot;nodeType&amp;quot;:&amp;quot;DOM&amp;quot;,&amp;quot;type&amp;quot;:&amp;quot;node&amp;quot;,&amp;quot;instanceArgs&amp;quot;:{&amp;quot;namespace&amp;quot;:&amp;quot;html&amp;quot;,&amp;quot;tag&amp;quot;:&amp;quot;div&amp;quot;},&amp;quot;children&amp;quot;:[]}]})&lt;/unsafe-script&gt;&quot; + &quot;&lt;/body&gt;&lt;/html&gt;&quot;;\n",
       "        setTimeout(function () { resizeIframe() }, 0)\n",
       "    }\n",
       "\n",
       "    doc.body.appendChild(webio)\n",
       "},(function (){return this.dom.style.height=&quot;100%&quot;})]}},&quot;systemjs_options&quot;:null,&quot;observables&quot;:{}},&quot;children&quot;:[{&quot;props&quot;:{&quot;style&quot;:{&quot;flexDirection&quot;:&quot;column&quot;,&quot;height&quot;:&quot;100%&quot;,&quot;minHeight&quot;:&quot;400px&quot;,&quot;display&quot;:&quot;flex&quot;,&quot;width&quot;:&quot;100%&quot;,&quot;overflow&quot;:&quot;hidden&quot;}},&quot;nodeType&quot;:&quot;DOM&quot;,&quot;type&quot;:&quot;node&quot;,&quot;instanceArgs&quot;:{&quot;namespace&quot;:&quot;html&quot;,&quot;tag&quot;:&quot;div&quot;},&quot;children&quot;:[{&quot;props&quot;:{&quot;attributes&quot;:{&quot;height&quot;:&quot;100%&quot;,&quot;scrolling&quot;:&quot;no&quot;,&quot;src&quot;:&quot;javascript:void(0)&quot;,&quot;frameborder&quot;:0},&quot;id&quot;:&quot;ifr&quot;,&quot;style&quot;:{&quot;width&quot;:&quot;100%&quot;,&quot;flexGrow&quot;:&quot;1&quot;}},&quot;nodeType&quot;:&quot;DOM&quot;,&quot;type&quot;:&quot;node&quot;,&quot;instanceArgs&quot;:{&quot;namespace&quot;:&quot;html&quot;,&quot;tag&quot;:&quot;iframe&quot;},&quot;children&quot;:[]}]}]})</unsafe-script>"
      ],
      "text/plain": [
       "Scope(\"scope-249ff393-6754-4ed0-90ed-b1f0e54631c9\", Node{WebIO.DOM}(WebIO.DOM(:html, :div), Any[Node{DOM}(DOM(:html, :iframe), Any[], Dict{Symbol,Any}(:attributes=>Dict{String,Any}(\"height\"=>\"100%\",\"scrolling\"=>\"no\",\"src\"=>\"javascript:void(0)\",\"frameborder\"=>0),:id=>\"ifr\",:style=>Dict(\"width\"=>\"100%\",\"flexGrow\"=>\"1\")), 0)], Dict{Symbol,Any}(:style=>Dict(\"flexDirection\"=>\"column\",\"height\"=>\"100%\",\"minHeight\"=>\"400px\",\"display\"=>\"flex\",\"width\"=>\"100%\",\"overflow\"=>\"hidden\")), 1), Dict{String,Tuple{Observables.AbstractObservable,Union{Nothing, Bool}}}(), Set(String[]), nothing, Any[], Dict{Any,Any}(\"_promises\"=>Dict{Any,Any}(\"importsLoaded\"=>Any[JSString(\"function () {\\n    var frame = this.dom.querySelector(\\\"#ifr\\\");\\n    var doc = frame.contentDocument\\n    var win = frame.contentWindow\\n\\n    // Ensure that the iframe's baseURI matches the baseURI of the\\n    // outer document. This is necessary to resolve\\n    // https://github.com/JuliaGizmos/WebIO.jl/issues/167\\n    var base = doc.createElement(\\\"base\\\");\\n    base.setAttribute(\\\"href\\\", document.baseURI);\\n    doc.head.appendChild(base);\\n\\n    var webio = doc.createElement(\\\"script\\\")\\n    webio.src = \\\"/assetserver/33d8e901bccf13fac58b1bf6ca4086fe426e7a3f-assets/webio/dist/bundle.js\\\"\\n    var parent = window\\n\\n    function resizeIframe() {\\n        doc.body.style.padding = '0'\\n        doc.body.style.margin = '0'\\n        doc.documentElement.height = '100%'\\n        doc.body.height = '100%'\\n    }\\n\\n    webio.onload = function () {\\n        win.WebIO.sendCallback = parent.WebIO.sendCallback; // Share stuff\\n        win.WebIO.scopes = parent.WebIO.scopes\\n        win.WebIO.obsscopes = parent.WebIO.obsscopes\\n        win.WebIO._connected = true\\n        doc.body.innerHTML = \\\"<html><body>\\\" + \\\"<div class='display:none'></div><unsafe-script style='display:none'>\\\\nWebIO.mount(this.previousSibling,{&quot;props&quot;:{},&quot;nodeType&quot;:&quot;Scope&quot;,&quot;type&quot;:&quot;node&quot;,&quot;instanceArgs&quot;:{&quot;imports&quot;:{&quot;data&quot;:[{&quot;name&quot;:null,&quot;type&quot;:&quot;js&quot;,&quot;url&quot;:&quot;/assetserver/eb95a47d783e3a79a211bfcb909a624e163af45a-main.min.js&quot;}],&quot;type&quot;:&quot;async_block&quot;},&quot;id&quot;:&quot;scope-867fb24a-864a-4267-9ced-52989955ad08&quot;,&quot;handlers&quot;:{&quot;meshcat-command&quot;:[(function (val){return this.viewer.handle_command_message({&quot;data&quot;:val})})],&quot;_promises&quot;:{&quot;importsLoaded&quot;:[(function (mc){var element=this.dom.children[0]; this.viewer=new mc.Viewer(element); WebIO.setval({&quot;name&quot;:&quot;meshcat-request&quot;,&quot;scope&quot;:&quot;scope-867fb24a-864a-4267-9ced-52989955ad08&quot;,&quot;id&quot;:&quot;ob_02&quot;,&quot;type&quot;:&quot;observable&quot;},String(Date.now())); return window.document.body.style.margin=&quot;0&quot;})]}},&quot;systemjs_options&quot;:null,&quot;observables&quot;:{&quot;meshcat-command&quot;:{&quot;sync&quot;:false,&quot;id&quot;:&quot;ob_01&quot;,&quot;value&quot;:[]},&quot;meshcat-controls&quot;:{&quot;sync&quot;:true,&quot;id&quot;:&quot;ob_03&quot;,&quot;value&quot;:[]},&quot;meshcat-request&quot;:{&quot;sync&quot;:true,&quot;id&quot;:&quot;ob_02&quot;,&quot;value&quot;:&quot;&quot;}}},&quot;children&quot;:[{&quot;props&quot;:{&quot;className&quot;:&quot;meshcat-viewer&quot;,&quot;style&quot;:{&quot;left&quot;:0,&quot;right&quot;:0,&quot;overflow&quot;:&quot;hidden&quot;,&quot;position&quot;:&quot;absolute&quot;,&quot;height&quot;:&quot;100vh&quot;,&quot;margin&quot;:0,&quot;width&quot;:&quot;100vw&quot;}},&quot;nodeType&quot;:&quot;DOM&quot;,&quot;type&quot;:&quot;node&quot;,&quot;instanceArgs&quot;:{&quot;namespace&quot;:&quot;html&quot;,&quot;tag&quot;:&quot;div&quot;},&quot;children&quot;:[]}]})</unsafe-script>\\\" + \\\"</body></html>\\\";\\n        setTimeout(function () { resizeIframe() }, 0)\\n    }\\n\\n    doc.body.appendChild(webio)\\n}\"), JSString(\"(function (){return this.dom.style.height=\\\"100%\\\"})\")])), WebIO.ConnectionPool(Channel{Any}(sz_max:9223372036854775807,sz_curr:0), Set(AbstractConnection[]), Channel{AbstractConnection}(sz_max:32,sz_curr:0)))"
      ]
     },
     "execution_count": 49,
     "metadata": {},
     "output_type": "execute_result"
    }
   ],
   "source": [
    "IJuliaCell(vis)"
   ]
  },
  {
   "cell_type": "code",
   "execution_count": 50,
   "metadata": {},
   "outputs": [],
   "source": [
    "placeMeshInLife(vis,half_b_sc,\"hbunny\",\"darkred\");"
   ]
  },
  {
   "cell_type": "code",
   "execution_count": 51,
   "metadata": {},
   "outputs": [
    {
     "data": {
      "text/plain": [
       "MeshCat Visualizer with path /meshcat/rotbunny"
      ]
     },
     "execution_count": 51,
     "metadata": {},
     "output_type": "execute_result"
    }
   ],
   "source": [
    "placeMeshInLife(vis,half_b_rot_sc,\"rotbunny\",\"olivedrab2\")"
   ]
  },
  {
   "cell_type": "markdown",
   "metadata": {},
   "source": [
    "## Old workflow\n",
    "Every array is using `Point3f0`\n",
    "\n",
    "```julia\n",
    "#Workflow: (reading, reference)\n",
    "#Input meshes/pointclouds\n",
    "reference_pc = deepcopy(half_b_sc);\n",
    "reading_pc = noisifyMesh(half_b_rot_sc);\n",
    "#Arrays of Point3f0\n",
    "reference_array = vertices(reference_pc);\n",
    "reading_array = vertices(reading_pc);\n",
    "#KD tree for the reference array\n",
    "#kdtree_ref = KDTree(reference_array);\n",
    "\n",
    "#Sampling random elements from the reference array\n",
    "sampled_points_ref = randomSamplePoints(reference_array,0.5);\n",
    "#Building KD tree for the sampled points\n",
    "kdtree_sampled_ref = KDTree(sampled_points_ref);\n",
    "\n",
    "#pairing the points in the two meshes\n",
    "indexer,fl_traits = createKnnPairArray(reading_array,kdtree_sampled_ref,sampled_points_ref,true);\n",
    "#rejecting the worst 20% based on the distance\n",
    "rej_is,rej_fltrs = rejectWorstPercent(indexer,fl_traits,0.2);\n",
    "```\n",
    "\n",
    "### Old workflow with  array of arrays\n",
    "```julia\n",
    "#Workflow: (reading, reference)\n",
    "#Input meshes/pointclouds\n",
    "reference_pc = deepcopy(half_b_sc);\n",
    "reading_pc = noisifyMesh(half_b_rot_sc);\n",
    "#Arrays of SVector\n",
    "reference_array = convert2HomogeneousArray(vertices(reference_pc),FLTYPE);\n",
    "reading_array = convert2HomogeneousArray(vertices(reading_pc),FLTYPE);\n",
    "#Sampling random elements from the reference and the reading array\n",
    "sampled_points_ref = randomSamplePoints(reference_array,50);\n",
    "sampled_points_red = randomSamplePoints(reading_array,50);\n",
    "#Building KD tree for the sampled ref points and the whole ref array\n",
    "kdtree_sampled_ref = KDTree(sampled_points_ref);\n",
    "kdtree_ref = KDTree(reference_array);\n",
    "\n",
    "#Iterate from here\n",
    "\n",
    "#pairing the points in the two meshes\n",
    "indM, traitM = createKnnPairArray(sampled_points_red,kdtree_ref);\n",
    "#sorting the indexes by the distances in the trait matrix\n",
    "s_indM, s_it = sortIndexes(indM, traitM[:,2]);\n",
    "#remove the worst 10%\n",
    "ch_ind, ch_it = chopEndOfArray(20,s_indM,s_it);\n",
    "```"
   ]
  },
  {
   "cell_type": "markdown",
   "metadata": {},
   "source": [
    "## New workflow\n",
    "Using Homogeneous vector instead of `Point3f0`\n",
    "\n",
    "Ötlet: amíg lehet csak az az indexeket használni és csak ahol muszáj, ott számolni a konkrét mátrixokkal\n",
    "### Workflow lépései:\n",
    "1. [x] reading és ref mesh-t homogén koordinátás SVector/MVector**(?)** tömbbé alakítani\n",
    "1. [x] a teljes referencia tömbből kd-tree\n",
    "### Iteráció\n",
    "1. [x] reading tömbből sampling\n",
    "1. [x] samplinged tömbhöz párkeresés a fából\n",
    "1. ##### Worst `x`% rejection\n",
    "  * [x] párok sorbarendezése távolság szerint\n",
    "  * [x] a sorbarendezett párok `x`%-nak kidobása\n",
    "1. ##### 2.5sigma rejection\n",
    "  * [ ] szórás számítása\n",
    "  * [ ] 2.5 sigmánál nagyobbak kidobása\n",
    "1. [x] A\\b összeállítása és megoldása\n",
    "1. [x] transzformáció a megoldással\n",
    "1. [x] transzformáció mentése vizualizációhoz\n",
    "1. [ ] kilépési feltétel check\n",
    "\n",
    "### Iteráció vége\n",
    "\n",
    "11. [ ] place in MeshCat\n",
    "12. [ ] animate in MeshCat\n",
    "\n",
    "\n",
    "## TODOs:\n",
    "* mtp tömb allokálódik a belső ciklusban?\n",
    "* affin tr. konverzió ellenőrzése\n",
    "* affin tr. akkumulálása\n",
    "* vizualizáció\n",
    "* animáció"
   ]
  },
  {
   "cell_type": "markdown",
   "metadata": {},
   "source": [
    "### Newnew workflow with matrix instead of array of array"
   ]
  },
  {
   "cell_type": "code",
   "execution_count": 5,
   "metadata": {},
   "outputs": [
    {
     "name": "stderr",
     "output_type": "stream",
     "text": [
      "┌ Info: The white noise scaling factor is 0.014079800248146057\n",
      "└ @ Main C:\\Users\\Laci\\Documents\\GIT\\PlayGround\\SzimGeo-ICP\\firsticp.jl:100\n"
     ]
    }
   ],
   "source": [
    "#Workflow: (reading, reference)\n",
    "#Input meshes/pointclouds\n",
    "reference_pc = deepcopy(half_b_sc);\n",
    "reading_pc = noisifyMesh(half_b_rot_sc);"
   ]
  },
  {
   "cell_type": "code",
   "execution_count": 13,
   "metadata": {},
   "outputs": [
    {
     "data": {
      "text/plain": [
       "firstICP (generic function with 1 method)"
      ]
     },
     "execution_count": 13,
     "metadata": {},
     "output_type": "execute_result"
    }
   ],
   "source": [
    "function firstICP(ref_mesh, read_mesh, iternum; fltype = Float32, sampleN = 50, chopN = 20, v = true)\n",
    "    #Matrixes\n",
    "    ref_mat = convert2HomCoordMatrix(vertices(ref_mesh), fltype)\n",
    "    red_mat = convert2HomCoordMatrix(vertices(read_mesh), fltype)\n",
    "    #Transposed reference matrix\n",
    "    ref_mtp = giveTranspose(ref_mat)\n",
    "    red_mtp = giveTranspose(red_mat)\n",
    "\n",
    "    #Sampling random indexes for the reference and reading arrays\n",
    "    #si_ref = randomSampleIndexes(50, ref_mtp, 2)\n",
    "    #si_red = randomSampleIndexes(50, red_mtp, 2)\n",
    "\n",
    "    #Building KD tree for the whole ref array (transposed matrix must be used)\n",
    "    kdtree_ref = KDTree(ref_mtp);\n",
    "    \n",
    "    firstDict, ujar = basicIteration(red_mtp, kdtree_ref, ref_mat, iternum, sampleN=sampleN, chopN=chopN, v=v);\n",
    "    return firstDict, red_mtp, ujar\n",
    "end\n",
    "\n",
    "function basicIteration(read_vert, kdtree_r, ref_mhor, itnum; sampleN = 50, chopN = 20, v = true)\n",
    "    trDict = Dict{Int,Any}()\n",
    "    for i in 1:itnum\n",
    "        #selecting random % of the reading\n",
    "        si_red = randomSampleIndexes(sampleN, read_vert, 2);\n",
    "        #pairing the points in the two meshes\n",
    "        indM, traitM = createKnnPairArray(read_vert[:,si_red], kdtree_r);\n",
    "        #sorting the indexes by the distances in the trait matrix\n",
    "        s_indM, s_it = sortIndexes(indM, traitM[:,2]);\n",
    "        #remove the worst %\n",
    "        ch_ind, ch_it = chopEndOfArray(chopN, s_indM,s_it);\n",
    "        #make the transformation matrix\n",
    "        coordTR = transpose(read_vert[:,ch_ind[:,2]])\\ref_mhor[ch_ind[:,1],:];\n",
    "        #transzforálmi az mtp-t kell\n",
    "        coordTR[:,4] = [0,0,0,1]\n",
    "        read_vert = transpose(coordTR) * read_vert;\n",
    "        trDict[i] = coordTR\n",
    "        if v && i%100 == 0\n",
    "            print(\"\\r $i'th iteration\")\n",
    "        end\n",
    "    end\n",
    "    return trDict, read_vert\n",
    "end"
   ]
  },
  {
   "cell_type": "code",
   "execution_count": 20,
   "metadata": {},
   "outputs": [],
   "source": [
    "#Matrixes\n",
    "    ref_mat = convert2HomCoordMatrix(vertices(reference_pc), FLTYPE)\n",
    "    red_mat = convert2HomCoordMatrix(vertices(reading_pc), FLTYPE)\n",
    "    #Transposed reference matrix\n",
    "    ref_mtp = giveTranspose(ref_mat)\n",
    "    red_mtp = giveTranspose(red_mat)\n",
    "\n",
    "    #Sampling random indexes for the reference and reading arrays\n",
    "    #si_ref = randomSampleIndexes(50, ref_mtp, 2)\n",
    "    #si_red = randomSampleIndexes(50, red_mtp, 2)\n",
    "\n",
    "    #Building KD tree for the whole ref array (transposed matrix must be used)\n",
    "    kdtree_ref = KDTree(ref_mtp);\n",
    "    "
   ]
  },
  {
   "cell_type": "code",
   "execution_count": null,
   "metadata": {},
   "outputs": [],
   "source": [
    "    firstDict, ujar = basicIteration(red_mtp, kdtree_ref, ref_mat, iternum, sampleN=sampleN, chopN=chopN, v=v);"
   ]
  },
  {
   "cell_type": "code",
   "execution_count": 21,
   "metadata": {},
   "outputs": [],
   "source": [
    "    si_red = randomSampleIndexes(50, red_mtp, 2);\n",
    "    #pairing the points in the two meshes\n",
    "    indM, traitM = createKnnPairArray(red_mtp[:,si_red], kdtree_ref);\n",
    "    #sorting the indexes by the distances in the trait matrix\n",
    "    s_indM, s_it = sortIndexes(indM, traitM[:,2]);\n",
    "    #remove the worst %\n",
    "    ch_ind, ch_it = chopEndOfArray(20, s_indM,s_it);"
   ]
  },
  {
   "cell_type": "code",
   "execution_count": 22,
   "metadata": {},
   "outputs": [],
   "source": [
    "red_mtp_o = deepcopy(red_mtp);\n",
    "ref_mat_o = deepcopy(ref_mat);"
   ]
  },
  {
   "cell_type": "code",
   "execution_count": 55,
   "metadata": {},
   "outputs": [
    {
     "data": {
      "text/plain": [
       "3288×4 Array{Float32,2}:\n",
       " -0.147627    0.728806  -0.387608   1.0\n",
       "  0.390675    0.617702  -0.0778266  1.0\n",
       " -0.238007    0.741774  -0.380398   1.0\n",
       "  0.212764    0.693138  -0.277613   1.0\n",
       "  0.132369    0.709965  -0.314873   1.0\n",
       " -0.157421    0.686009  -0.381423   1.0\n",
       "  0.192888    0.651078  -0.282476   1.0\n",
       " -0.117377    0.685356  -0.370961   1.0\n",
       " -0.157421    0.686009  -0.381423   1.0\n",
       "  0.00248169  0.726618  -0.353693   1.0\n",
       "  0.292435    0.637114  -0.199317   1.0\n",
       "  0.382147    0.603208  -0.0873991  1.0\n",
       " -0.30041     0.819074  -0.335886   1.0\n",
       "  ⋮                                    \n",
       "  0.122157    0.346138  -0.197432   1.0\n",
       " -0.0891857   0.338467  -0.251248   1.0\n",
       " -0.0891857   0.338467  -0.251248   1.0\n",
       " -0.0891857   0.338467  -0.251248   1.0\n",
       "  0.116034    0.355849  -0.21581    1.0\n",
       " -0.0891857   0.338467  -0.251248   1.0\n",
       "  0.0340018   0.348289  -0.229504   1.0\n",
       " -0.376133    0.393512  -0.290006   1.0\n",
       "  0.132509    0.349689  -0.195966   1.0\n",
       " -0.427254    0.358312  -0.275925   1.0\n",
       " -0.427254    0.358312  -0.275925   1.0\n",
       " -0.427254    0.358312  -0.275925   1.0"
      ]
     },
     "execution_count": 55,
     "metadata": {},
     "output_type": "execute_result"
    }
   ],
   "source": [
    "ref_mat[ch_ind[:,1],:]"
   ]
  },
  {
   "cell_type": "code",
   "execution_count": 57,
   "metadata": {},
   "outputs": [
    {
     "data": {
      "text/plain": [
       "3288×4 Transpose{Float32,Array{Float32,2}}:\n",
       "  0.00480505  0.579148  -0.266594  1.0\n",
       " -8.63811e-5  0.570342  -0.265902  1.0\n",
       "  0.0103368   0.577682  -0.26456   1.0\n",
       "  0.00312752  0.575844  -0.265432  1.0\n",
       "  0.00505133  0.5768    -0.265311  1.0\n",
       "  0.00790265  0.573508  -0.263948  1.0\n",
       "  0.0116987   0.581385  -0.265528  1.0\n",
       "  0.00741144  0.5786    -0.265431  1.0\n",
       "  0.00575262  0.567656  -0.263303  1.0\n",
       "  0.0106537   0.576195  -0.264103  1.0\n",
       "  0.0108837   0.57761   -0.264411  1.0\n",
       "  0.00591308  0.581667  -0.266945  1.0\n",
       "  0.00551729  0.580291  -0.267003  1.0\n",
       "  ⋮                                   \n",
       "  0.00474759  0.572203  -0.265861  1.0\n",
       "  0.00166347  0.571535  -0.264762  1.0\n",
       "  0.00684418  0.577772  -0.265192  1.0\n",
       "  0.00325755  0.570617  -0.266064  1.0\n",
       "  0.00254316  0.563394  -0.26335   1.0\n",
       "  0.00282216  0.570154  -0.265874  1.0\n",
       "  0.00187358  0.570105  -0.264496  1.0\n",
       " -0.00351954  0.570788  -0.266786  1.0\n",
       "  0.00706456  0.579375  -0.265736  1.0\n",
       "  0.00758981  0.577464  -0.264918  1.0\n",
       "  0.009722    0.573152  -0.263596  1.0\n",
       "  0.00572706  0.580196  -0.266234  1.0"
      ]
     },
     "execution_count": 57,
     "metadata": {},
     "output_type": "execute_result"
    },
    {
     "name": "stderr",
     "output_type": "stream",
     "text": [
      "┌ Info: Closed:  💀    1↑     1↓🔒 1223s 127.0.0.1:8700:8700 ≣16\n",
      "└ @ HTTP.Servers C:\\Users\\Laci\\.julia\\packages\\HTTP\\nUK4f\\src\\Servers.jl:373\n",
      "┌ Info: Closed:  💀    2↑     2↓🔒 1221s 127.0.0.1:8700:8700 ≣16\n",
      "└ @ HTTP.Servers C:\\Users\\Laci\\.julia\\packages\\HTTP\\nUK4f\\src\\Servers.jl:373\n",
      "┌ Info: Closed:  💀    2↑     2↓🔒 1221s 127.0.0.1:8700:8700 ≣16\n",
      "└ @ HTTP.Servers C:\\Users\\Laci\\.julia\\packages\\HTTP\\nUK4f\\src\\Servers.jl:373\n"
     ]
    }
   ],
   "source": [
    "transpose(red_mtp[:,ch_ind[:,2]])"
   ]
  },
  {
   "cell_type": "code",
   "execution_count": 63,
   "metadata": {},
   "outputs": [],
   "source": [
    "        coordTR = transpose(red_mtp[:,ch_ind[:,2]])\\ref_mat[ch_ind[:,1],:];"
   ]
  },
  {
   "cell_type": "code",
   "execution_count": 64,
   "metadata": {},
   "outputs": [
    {
     "data": {
      "text/plain": [
       "4×4 Array{Float32,2}:\n",
       "  1.00012      -4.2674e-5     6.76244e-5   8.37845e-6\n",
       " -0.000115975   1.00004      -6.36222e-5  -4.88165e-6\n",
       " -0.000517068   0.000199458   0.999705    -5.0322e-5 \n",
       " -7.11259e-5    3.05356e-5   -4.20787e-5   0.999991  "
      ]
     },
     "execution_count": 64,
     "metadata": {},
     "output_type": "execute_result"
    }
   ],
   "source": [
    "coordTR"
   ]
  },
  {
   "cell_type": "code",
   "execution_count": 28,
   "metadata": {},
   "outputs": [
    {
     "data": {
      "text/plain": [
       "4×4 Array{Float32,2}:\n",
       " -0.0147954   -0.00565613   5.20362e-5  0.0\n",
       "  0.00412888   0.0201456   -0.00185118  0.0\n",
       "  0.0276279   -0.0155112    0.00735182  0.0\n",
       "  0.0105115    0.558314    -0.262057    1.0"
      ]
     },
     "execution_count": 28,
     "metadata": {},
     "output_type": "execute_result"
    }
   ],
   "source": [
    "    coordTR[:,4] = [0,0,0,1];\n",
    "    coordTR"
   ]
  },
  {
   "cell_type": "code",
   "execution_count": 58,
   "metadata": {},
   "outputs": [
    {
     "data": {
      "text/plain": [
       "3×3 Array{Float32,2}:\n",
       " -0.0147954   -0.00565613   5.20362e-5\n",
       "  0.00412888   0.0201456   -0.00185118\n",
       "  0.0276279   -0.0155112    0.00735182"
      ]
     },
     "execution_count": 58,
     "metadata": {},
     "output_type": "execute_result"
    }
   ],
   "source": [
    "rotM = coordTR[1:3,1:3]"
   ]
  },
  {
   "cell_type": "code",
   "execution_count": 60,
   "metadata": {},
   "outputs": [
    {
     "data": {
      "text/plain": [
       "3×3 Array{Float32,2}:\n",
       "  0.000250898  -0.000175131  -0.00032065 \n",
       " -0.000175131   0.000426321  -0.000212019\n",
       " -0.00032065   -0.000212019   0.00105795 "
      ]
     },
     "execution_count": 60,
     "metadata": {},
     "output_type": "execute_result"
    }
   ],
   "source": [
    "rotM*transpose(rotM)"
   ]
  },
  {
   "cell_type": "code",
   "execution_count": 29,
   "metadata": {},
   "outputs": [],
   "source": [
    "    mod_red = transpose(coordTR) * red_mtp;    "
   ]
  },
  {
   "cell_type": "code",
   "execution_count": 34,
   "metadata": {},
   "outputs": [
    {
     "data": {
      "text/plain": [
       "true"
      ]
     },
     "execution_count": 34,
     "metadata": {},
     "output_type": "execute_result"
    }
   ],
   "source": [
    "red_mtp == red_mtp_o"
   ]
  },
  {
   "cell_type": "code",
   "execution_count": 35,
   "metadata": {},
   "outputs": [],
   "source": [
    "    red_mtp = transpose(coordTR) * red_mtp;"
   ]
  },
  {
   "cell_type": "code",
   "execution_count": 37,
   "metadata": {},
   "outputs": [
    {
     "data": {
      "text/plain": [
       "true"
      ]
     },
     "execution_count": 37,
     "metadata": {},
     "output_type": "execute_result"
    }
   ],
   "source": [
    "red_mtp == mod_red"
   ]
  },
  {
   "cell_type": "code",
   "execution_count": 40,
   "metadata": {},
   "outputs": [
    {
     "data": {
      "text/plain": [
       "HomogenousMesh(\n",
       "    vertices: 8220xPoint{3,Float32},     normals: 8220xNormal{3,Float32}, )\n"
      ]
     },
     "execution_count": 40,
     "metadata": {},
     "output_type": "execute_result"
    }
   ],
   "source": [
    "ujmesh = makeMeshfromMatrix(transpose(red_mtp))"
   ]
  },
  {
   "cell_type": "code",
   "execution_count": 46,
   "metadata": {
    "scrolled": true
   },
   "outputs": [
    {
     "data": {
      "text/plain": [
       "HomogenousMesh(\n",
       "    vertices: 8220xPoint{3,Float32},     normals: 8220xNormal{3,Float32}, )\n"
      ]
     },
     "execution_count": 46,
     "metadata": {},
     "output_type": "execute_result"
    }
   ],
   "source": [
    "ujuju  = makeMeshfromMatrix(red_mtp)"
   ]
  },
  {
   "cell_type": "code",
   "execution_count": 45,
   "metadata": {},
   "outputs": [
    {
     "data": {
      "text/plain": [
       "giveTranspose"
      ]
     },
     "execution_count": 45,
     "metadata": {},
     "output_type": "execute_result"
    }
   ],
   "source": [
    "include(\"firsticp.jl\")"
   ]
  },
  {
   "cell_type": "code",
   "execution_count": 54,
   "metadata": {},
   "outputs": [
    {
     "data": {
      "text/plain": [
       "MeshCat Visualizer with path /meshcat/new"
      ]
     },
     "execution_count": 54,
     "metadata": {},
     "output_type": "execute_result"
    }
   ],
   "source": [
    "placeMeshInLife(vis,ujmesh,\"new\")"
   ]
  },
  {
   "cell_type": "code",
   "execution_count": 15,
   "metadata": {},
   "outputs": [],
   "source": [
    "dicti, tred_mesh, trmeshuj = firstICP(reference_pc, reading_pc, 1);"
   ]
  },
  {
   "cell_type": "code",
   "execution_count": 16,
   "metadata": {},
   "outputs": [
    {
     "data": {
      "text/plain": [
       "4×8220 Array{Float32,2}:\n",
       "  0.360821    0.351489     0.309485  …  -0.449063   -0.496082    -0.514965 \n",
       "  0.677789    0.647376     0.727633     -0.0434335   0.00376227  -0.0160387\n",
       " -0.00384105  0.00310313  -0.028599     -0.549236   -0.571814    -0.563428 \n",
       "  1.0         1.0          1.0           1.0         1.0          1.0      "
      ]
     },
     "execution_count": 16,
     "metadata": {},
     "output_type": "execute_result"
    }
   ],
   "source": [
    "tred_mesh"
   ]
  },
  {
   "cell_type": "code",
   "execution_count": 17,
   "metadata": {},
   "outputs": [
    {
     "data": {
      "text/plain": [
       "4×8220 Array{Float32,2}:\n",
       " -0.00137906  -0.00351062  …  -0.0214135  -0.0197355  -0.0219509\n",
       "  0.577873     0.576354        0.55708     0.557443    0.555675 \n",
       " -0.267139    -0.267561       -0.270451   -0.269796   -0.270141 \n",
       "  1.0          1.0             1.0         1.0         1.0      "
      ]
     },
     "execution_count": 17,
     "metadata": {},
     "output_type": "execute_result"
    }
   ],
   "source": [
    "trmeshuj"
   ]
  },
  {
   "cell_type": "code",
   "execution_count": 18,
   "metadata": {},
   "outputs": [
    {
     "data": {
      "text/plain": [
       "4×4 Array{Float32,2}:\n",
       "  0.04132     0.0434684   0.00213453  0.0\n",
       "  0.0397769   0.0234909   0.010658    0.0\n",
       " -0.0772246  -0.0574871  -0.0111906   0.0\n",
       " -0.0435451   0.546046   -0.275176    1.0"
      ]
     },
     "execution_count": 18,
     "metadata": {},
     "output_type": "execute_result"
    }
   ],
   "source": [
    "dicti[1]"
   ]
  },
  {
   "cell_type": "code",
   "execution_count": null,
   "metadata": {},
   "outputs": [],
   "source": [
    "newmesh = makeMeshfromMatrix(transpose(tred_mesh));"
   ]
  },
  {
   "cell_type": "code",
   "execution_count": null,
   "metadata": {},
   "outputs": [],
   "source": [
    "newmesh_tr = makeMeshfromMatrix(transpose(trmeshuj));"
   ]
  },
  {
   "cell_type": "code",
   "execution_count": null,
   "metadata": {},
   "outputs": [],
   "source": [
    "newmesh_tr"
   ]
  },
  {
   "cell_type": "code",
   "execution_count": null,
   "metadata": {},
   "outputs": [],
   "source": [
    "placeMeshInLife(vis, newmesh, \"tred\")"
   ]
  },
  {
   "cell_type": "code",
   "execution_count": null,
   "metadata": {},
   "outputs": [],
   "source": [
    "placeMeshInLife(vis, newmesh_tr, \"trededd\", \"orange\")"
   ]
  },
  {
   "cell_type": "code",
   "execution_count": 65,
   "metadata": {},
   "outputs": [
    {
     "data": {
      "text/plain": [
       "affinMapList (generic function with 2 methods)"
      ]
     },
     "execution_count": 65,
     "metadata": {},
     "output_type": "execute_result"
    }
   ],
   "source": [
    "function affinMapList(dicti, accumulate = false)\n",
    "    aff_arr = Array{AffineMap}(undef,length(dicti))\n",
    "    for i in 1:length(dicti)\n",
    "        aff_arr[i] = AffineMap(SMatrix{3,3}(transpose(dicti[i][1:3,1:3])), SVector{3}(dicti[i][4,1:3]))\n",
    "    end\n",
    "    return aff_arr\n",
    "end"
   ]
  },
  {
   "cell_type": "code",
   "execution_count": 67,
   "metadata": {},
   "outputs": [
    {
     "data": {
      "text/plain": [
       "AffineMap(Float32[0.04132 0.0397769 -0.0772246; 0.0434684 0.0234909 -0.0574871; 0.00213453 0.010658 -0.0111906], Float32[-0.0435451, 0.546046, -0.275176])"
      ]
     },
     "execution_count": 67,
     "metadata": {},
     "output_type": "execute_result"
    }
   ],
   "source": [
    "affinMapList(dicti)[1]"
   ]
  },
  {
   "cell_type": "code",
   "execution_count": null,
   "metadata": {},
   "outputs": [],
   "source": []
  }
 ],
 "metadata": {
  "kernelspec": {
   "display_name": "Julia 1.0.1",
   "language": "julia",
   "name": "julia-1.0"
  },
  "language_info": {
   "file_extension": ".jl",
   "mimetype": "application/julia",
   "name": "julia",
   "version": "1.0.1"
  }
 },
 "nbformat": 4,
 "nbformat_minor": 2
}
