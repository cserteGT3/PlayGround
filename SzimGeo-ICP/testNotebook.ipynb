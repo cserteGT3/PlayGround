{
 "cells": [
  {
   "cell_type": "code",
   "execution_count": null,
   "metadata": {},
   "outputs": [],
   "source": [
    "using MeshCat, FileIO, Interact, CoordinateTransformations"
   ]
  },
  {
   "cell_type": "code",
   "execution_count": null,
   "metadata": {},
   "outputs": [],
   "source": [
    "bunny = load(\"C:\\\\Users\\\\cstamas\\\\Documents\\\\SZTAKI\\\\juhulia\\\\bunny\\\\reconstruction\\\\bun_zipper.ply\")"
   ]
  },
  {
   "cell_type": "code",
   "execution_count": null,
   "metadata": {},
   "outputs": [],
   "source": [
    "vis = Visualizer()"
   ]
  },
  {
   "cell_type": "code",
   "execution_count": null,
   "metadata": {},
   "outputs": [],
   "source": [
    "IJuliaCell(vis)"
   ]
  },
  {
   "cell_type": "code",
   "execution_count": null,
   "metadata": {},
   "outputs": [],
   "source": [
    "setobject!(vis[:bunny],bunny)"
   ]
  },
  {
   "cell_type": "code",
   "execution_count": null,
   "metadata": {},
   "outputs": [],
   "source": [
    "slix = slider(0:0.01:1,label=\"x axis\",value=0);\n",
    "sliy = slider(0:0.01:1,label=\"y axis\",value=0);\n",
    "sliz = slider(0:0.01:1,label=\"z axis\",value=0);\n",
    "on(n -> settransform!(vis[:bunny],Translation(n,0,0)),slix);\n",
    "on(n -> settransform!(vis[:bunny],Translation(0,n,0)),sliy);\n",
    "on(n -> settransform!(vis[:bunny],Translation(0,0,n)),sliz);\n",
    "trGui = vbox(slix,sliy,sliz);\n",
    "display(trGui)"
   ]
  },
  {
   "cell_type": "code",
   "execution_count": null,
   "metadata": {},
   "outputs": [],
   "source": []
  }
 ],
 "metadata": {
  "kernelspec": {
   "display_name": "Julia 1.0.1",
   "language": "julia",
   "name": "julia-1.0"
  },
  "language_info": {
   "file_extension": ".jl",
   "mimetype": "application/julia",
   "name": "julia",
   "version": "1.0.1"
  }
 },
 "nbformat": 4,
 "nbformat_minor": 2
}
