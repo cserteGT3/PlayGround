{
 "cells": [
  {
   "cell_type": "code",
   "execution_count": null,
   "metadata": {},
   "outputs": [],
   "source": [
    "#using Markdown; Markdown.parse_file(\"README.md\")"
   ]
  },
  {
   "cell_type": "code",
   "execution_count": null,
   "metadata": {},
   "outputs": [],
   "source": [
    "MODEL_PATH_KEY = :wNB;\n",
    "const FLTYPE = Float32;\n",
    "include(\"heavyloadings.jl\");"
   ]
  },
  {
   "cell_type": "code",
   "execution_count": null,
   "metadata": {},
   "outputs": [],
   "source": [
    "half_b = load(MODEL_FOLDER*\"\\\\bunny\\\\half_bunny_unmod.ply\");\n",
    "half_b_rot = load(MODEL_FOLDER*\"\\\\bunny\\\\half_bunny_rot1.ply\");"
   ]
  },
  {
   "cell_type": "code",
   "execution_count": null,
   "metadata": {},
   "outputs": [],
   "source": [
    "include(\"firsticp.jl\")"
   ]
  },
  {
   "cell_type": "code",
   "execution_count": null,
   "metadata": {},
   "outputs": [],
   "source": [
    "half_b_sc = scaleMesh(half_b,10);\n",
    "half_b_rot_sc = scaleMesh(half_b_rot,10);"
   ]
  },
  {
   "cell_type": "code",
   "execution_count": null,
   "metadata": {
    "scrolled": false
   },
   "outputs": [],
   "source": [
    "IJuliaCell(vis)"
   ]
  },
  {
   "cell_type": "code",
   "execution_count": null,
   "metadata": {},
   "outputs": [],
   "source": [
    "placeMeshInLife(vis,half_b_sc,\"hbunny\",\"darkred\");\n",
    "placeMeshInLife(vis,half_b_rot_sc,\"rotbunny\",\"olivedrab2\")"
   ]
  },
  {
   "cell_type": "markdown",
   "metadata": {},
   "source": [
    "## Old workflow\n",
    "Every array is using `Point3f0`\n",
    "\n",
    "```julia\n",
    "#Workflow: (reading, reference)\n",
    "#Input meshes/pointclouds\n",
    "reference_pc = deepcopy(half_b_sc);\n",
    "reading_pc = noisifyMesh(half_b_rot_sc);\n",
    "#Arrays of Point3f0\n",
    "reference_array = vertices(reference_pc);\n",
    "reading_array = vertices(reading_pc);\n",
    "#KD tree for the reference array\n",
    "#kdtree_ref = KDTree(reference_array);\n",
    "\n",
    "#Sampling random elements from the reference array\n",
    "sampled_points_ref = randomSamplePoints(reference_array,0.5);\n",
    "#Building KD tree for the sampled points\n",
    "kdtree_sampled_ref = KDTree(sampled_points_ref);\n",
    "\n",
    "#pairing the points in the two meshes\n",
    "indexer,fl_traits = createKnnPairArray(reading_array,kdtree_sampled_ref,sampled_points_ref,true);\n",
    "#rejecting the worst 20% based on the distance\n",
    "rej_is,rej_fltrs = rejectWorstPercent(indexer,fl_traits,0.2);\n",
    "```"
   ]
  },
  {
   "cell_type": "markdown",
   "metadata": {},
   "source": [
    "## New workflow\n",
    "Using Homogeneous vector instead of `Point3f0`\n",
    "### Workflow lépései:\n",
    "1. [x] reading és ref mesh-t homogén koordinátás SVector/MVector**(?)** tömbbé alakítani\n",
    "1. [x] a teljes referencia tömbből kd-tree\n",
    "### Iteráció\n",
    "1. [x] reading tömbből sampling\n",
    "1. [x] samplinged tömbhöz párkeresés a fából\n",
    "1. ##### Worst `x`% rejection\n",
    "  * [x] párok sorbarendezése távolság szerint\n",
    "  * [x] a sorbarendezett párok `x`%-nak kidobása\n",
    "1. ##### 2.5sigma rejection\n",
    "  * [ ] szórás számítása\n",
    "  * [ ] 2.5 sigmánál nagyobbak kidobása\n",
    "1. [ ] A\\b összeállítása és megoldása\n",
    "1. [ ] transzformáció a megoldással\n",
    "1. [ ] transzformáció mentése vizualizációhoz\n",
    "1. [ ] kilépési feltétel check\n",
    "\n",
    "### Iteráció vége\n",
    "\n",
    "11. [ ] place in MeshCat\n",
    "12. [ ] animate in MeshCat\n"
   ]
  },
  {
   "cell_type": "code",
   "execution_count": null,
   "metadata": {},
   "outputs": [],
   "source": [
    "#Workflow: (reading, reference)\n",
    "#Input meshes/pointclouds\n",
    "reference_pc = deepcopy(half_b_sc);\n",
    "reading_pc = noisifyMesh(half_b_rot_sc);\n",
    "#Arrays of SVector\n",
    "reference_array = convert2HomogeneousArray(vertices(reference_pc),FLTYPE);\n",
    "reading_array = convert2HomogeneousArray(vertices(reading_pc),FLTYPE);\n",
    "#Sampling random elements from the reference and the reading array\n",
    "sampled_points_ref = randomSamplePoints(reference_array,50);\n",
    "sampled_points_red = randomSamplePoints(reading_array,50);\n",
    "#Building KD tree for the sampled ref points and the whole ref array\n",
    "kdtree_sampled_ref = KDTree(sampled_points_ref);\n",
    "kdtree_ref = KDTree(reference_array);\n",
    "\n",
    "#Iterate from here\n",
    "\n",
    "#pairing the points in the two meshes\n",
    "indM, traitM = createKnnPairArray(sampled_points_red,kdtree_ref);\n",
    "#sorting the indexes by the distances in the trait matrix\n",
    "s_indM, s_it = sortIndexes(indM, traitM[:,2]);\n",
    "#remove the worst 10%\n",
    "ch_ind, ch_it = chopEndOfArray(20,s_indM,s_it);"
   ]
  },
  {
   "cell_type": "markdown",
   "metadata": {},
   "source": [
    "Transformation matrix:\n",
    "\n",
    "Tkkv * sampled_points_red[ch_ind[:,2]]= reference_array[ch_ind[:,1]]\n",
    "\n",
    "after transpose \n",
    "\n",
    "sampled_points_red_transp * Tkkv_transp = reference_array_transp\n",
    "\n",
    "this is a form of A*x = b\n",
    "\n",
    "Solution for Tkkv_transp\n",
    "\n",
    "x = A \\ b\n",
    "\n",
    "Tkkv_transp = sampled_points_red_transp \\ reference_array_transp\n"
   ]
  },
  {
   "cell_type": "code",
   "execution_count": null,
   "metadata": {},
   "outputs": [],
   "source": [
    "#make the transformation matrix\n",
    "\n",
    "#for debug make a subarray\n",
    "smpl_ch = sampled_points_red[ch_ind[:,2]];\n",
    "ref_ch = reference_array[ch_ind[:,1]];"
   ]
  },
  {
   "cell_type": "code",
   "execution_count": null,
   "metadata": {},
   "outputs": [],
   "source": [
    "#rtanspose them\n",
    "smpl_tp = transpose(smpl_ch);\n",
    "ref_tp = transpose(ref_ch);"
   ]
  },
  {
   "cell_type": "code",
   "execution_count": 15,
   "metadata": {},
   "outputs": [
    {
     "ename": "MethodError",
     "evalue": "MethodError: no method matching pinv(::Array{SArray{Tuple{4},Float32,1,4},1}, ::SArray{Tuple{4},Float32,1,4})\nClosest candidates are:\n  pinv(::AbstractArray{T,1}) where T at C:\\cygwin\\home\\Administrator\\buildbot\\worker\\package_win64\\build\\usr\\share\\julia\\stdlib\\v1.0\\LinearAlgebra\\src\\generic.jl:808\n  pinv(::AbstractArray{T,1}, !Matched::Real) where T at C:\\cygwin\\home\\Administrator\\buildbot\\worker\\package_win64\\build\\usr\\share\\julia\\stdlib\\v1.0\\LinearAlgebra\\src\\generic.jl:808",
     "output_type": "error",
     "traceback": [
      "MethodError: no method matching pinv(::Array{SArray{Tuple{4},Float32,1,4},1}, ::SArray{Tuple{4},Float32,1,4})\nClosest candidates are:\n  pinv(::AbstractArray{T,1}) where T at C:\\cygwin\\home\\Administrator\\buildbot\\worker\\package_win64\\build\\usr\\share\\julia\\stdlib\\v1.0\\LinearAlgebra\\src\\generic.jl:808\n  pinv(::AbstractArray{T,1}, !Matched::Real) where T at C:\\cygwin\\home\\Administrator\\buildbot\\worker\\package_win64\\build\\usr\\share\\julia\\stdlib\\v1.0\\LinearAlgebra\\src\\generic.jl:808",
      "",
      "Stacktrace:",
      " [1] pinv(::Array{SArray{Tuple{4},Float32,1,4},1}) at C:\\cygwin\\home\\Administrator\\buildbot\\worker\\package_win64\\build\\usr\\share\\julia\\stdlib\\v1.0\\LinearAlgebra\\src\\generic.jl:808",
      " [2] pinv(::Transpose{Transpose{Float32,SArray{Tuple{4},Float32,1,4}},Array{SArray{Tuple{4},Float32,1,4},1}}, ::Int64) at C:\\cygwin\\home\\Administrator\\buildbot\\worker\\package_win64\\build\\usr\\share\\julia\\stdlib\\v1.0\\LinearAlgebra\\src\\adjtrans.jl:224 (repeats 2 times)",
      " [3] \\(::Transpose{Transpose{Float32,SArray{Tuple{4},Float32,1,4}},Array{SArray{Tuple{4},Float32,1,4},1}}, ::Transpose{Transpose{Float32,SArray{Tuple{4},Float32,1,4}},Array{SArray{Tuple{4},Float32,1,4},1}}) at C:\\cygwin\\home\\Administrator\\buildbot\\worker\\package_win64\\build\\usr\\share\\julia\\stdlib\\v1.0\\LinearAlgebra\\src\\adjtrans.jl:228",
      " [4] top-level scope at In[15]:1"
     ]
    }
   ],
   "source": [
    "Tkkv_transposed = smpl_tp\\ref_tp"
   ]
  },
  {
   "cell_type": "code",
   "execution_count": 16,
   "metadata": {},
   "outputs": [
    {
     "ename": "MethodError",
     "evalue": "MethodError: no method matching pinv(::Array{SArray{Tuple{4},Float32,1,4},1}, ::SArray{Tuple{4},Float32,1,4})\nClosest candidates are:\n  pinv(::AbstractArray{T,1}) where T at C:\\cygwin\\home\\Administrator\\buildbot\\worker\\package_win64\\build\\usr\\share\\julia\\stdlib\\v1.0\\LinearAlgebra\\src\\generic.jl:808\n  pinv(::AbstractArray{T,1}, !Matched::Real) where T at C:\\cygwin\\home\\Administrator\\buildbot\\worker\\package_win64\\build\\usr\\share\\julia\\stdlib\\v1.0\\LinearAlgebra\\src\\generic.jl:808",
     "output_type": "error",
     "traceback": [
      "MethodError: no method matching pinv(::Array{SArray{Tuple{4},Float32,1,4},1}, ::SArray{Tuple{4},Float32,1,4})\nClosest candidates are:\n  pinv(::AbstractArray{T,1}) where T at C:\\cygwin\\home\\Administrator\\buildbot\\worker\\package_win64\\build\\usr\\share\\julia\\stdlib\\v1.0\\LinearAlgebra\\src\\generic.jl:808\n  pinv(::AbstractArray{T,1}, !Matched::Real) where T at C:\\cygwin\\home\\Administrator\\buildbot\\worker\\package_win64\\build\\usr\\share\\julia\\stdlib\\v1.0\\LinearAlgebra\\src\\generic.jl:808",
      "",
      "Stacktrace:",
      " [1] pinv(::Array{SArray{Tuple{4},Float32,1,4},1}) at C:\\cygwin\\home\\Administrator\\buildbot\\worker\\package_win64\\build\\usr\\share\\julia\\stdlib\\v1.0\\LinearAlgebra\\src\\generic.jl:808",
      " [2] \\(::Array{SArray{Tuple{4},Float32,1,4},1}, ::Array{SArray{Tuple{4},Float32,1,4},1}) at C:\\cygwin\\home\\Administrator\\buildbot\\worker\\package_win64\\build\\usr\\share\\julia\\stdlib\\v1.0\\LinearAlgebra\\src\\generic.jl:875",
      " [3] top-level scope at In[16]:1"
     ]
    }
   ],
   "source": [
    "Tkkv_transposed = smpl_ch\\ref_ch"
   ]
  }
 ],
 "metadata": {
  "kernelspec": {
   "display_name": "Julia 1.0.1",
   "language": "julia",
   "name": "julia-1.0"
  },
  "language_info": {
   "file_extension": ".jl",
   "mimetype": "application/julia",
   "name": "julia",
   "version": "1.0.1"
  }
 },
 "nbformat": 4,
 "nbformat_minor": 2
}
