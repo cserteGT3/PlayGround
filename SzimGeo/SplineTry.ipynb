{
 "cells": [
  {
   "cell_type": "code",
   "execution_count": null,
   "metadata": {},
   "outputs": [],
   "source": [
    "#using Plots\n",
    "#plotlyjs()"
   ]
  },
  {
   "cell_type": "code",
   "execution_count": null,
   "metadata": {},
   "outputs": [],
   "source": [
    "#Curve endpoint tipe\n",
    "struct CurveEP\n",
    "    pA\n",
    "    pB\n",
    "    tA\n",
    "    tB\n",
    "    function CurveEP(p1,p2,t1,t2)\n",
    "        if !(size(p1)==size(p2)==size(t1)==size(t2))\n",
    "            error(\"Vectors does not have the same dimensions.\")\n",
    "        end\n",
    "        if length(p1)>3 && length(p1)<2\n",
    "            error(\"Dimensions below 2 and over 3 can not be used.\")\n",
    "        end\n",
    "        if abs(1-norm(t1)) > eps()\n",
    "            error(\"First tangent is not normed.\")\n",
    "        end\n",
    "        if abs(1-norm(t2)) > eps()\n",
    "            error(\"Second tangent is not normed.\")\n",
    "        end\n",
    "        if size(p1)[1]==1\n",
    "            p11=vec(p1)\n",
    "            p22=vec(p2)\n",
    "            t11=vec(t1)\n",
    "            t22=vec(t2)\n",
    "            new(p11,p22,t11,t22)\n",
    "            println(\"Arguments were reshaped to vector.\")\n",
    "        else\n",
    "            new(p1,p2,t1,t2)\n",
    "        end\n",
    "    end\n",
    "end\n",
    "Base.show(io::IO,c::CurveEP) = print(io,\"Curve endpoint:\\npA=$(c.pA)\\tpB=$(c.pB)\\ntA=$(c.tA)\\ttB=$(c.tB)\")\n",
    "function CurveEP(p1,p2,t1,t2;norm=false)\n",
    "    if norm\n",
    "        t11=normalize(t1)\n",
    "        t22=normalize(t2)\n",
    "        CurveEP(p1,p2,t11,t22)\n",
    "    else\n",
    "        CurveEP(p1,p2,t1,t2)\n",
    "    end\n",
    "end"
   ]
  },
  {
   "cell_type": "code",
   "execution_count": null,
   "metadata": {},
   "outputs": [],
   "source": [
    "herr=CurveEP([1.1,2],[3,4],[5,6],[7,8])"
   ]
  }
 ],
 "metadata": {
  "kernelspec": {
   "display_name": "Julia 0.6.2",
   "language": "julia",
   "name": "julia-0.6"
  },
  "language_info": {
   "file_extension": ".jl",
   "mimetype": "application/julia",
   "name": "julia",
   "version": "0.6.2"
  }
 },
 "nbformat": 4,
 "nbformat_minor": 2
}
