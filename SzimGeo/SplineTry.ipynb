{
 "cells": [
  {
   "cell_type": "code",
   "execution_count": null,
   "metadata": {},
   "outputs": [],
   "source": [
    "#using Plots\n",
    "#plotlyjs()"
   ]
  },
  {
   "cell_type": "code",
   "execution_count": null,
   "metadata": {},
   "outputs": [],
   "source": [
    "#Curve endpoint tipe\n",
    "struct CurveEP\n",
    "    pA\n",
    "    pB\n",
    "    tA\n",
    "    tB\n",
    "    #CurveEP2D(p1,p2,t1,t2) = abs(1-norm(tA)) < eps() && abs(1-norm(tB)) < eps() && size(pA)==size(pB)==size(tA)==size(tB) ? new(p1,p2,t1,t2) : error(\"Points and vector don't have the same dimension or the tangents are not normed.\") \n",
    "end\n",
    "Base.show(io::IO,c::CurveEP) = print(io,\"Curve endpoint:\\npA=$(c.pA)\\tpB=$(c.pB)\\ntA=$(c.tA)\\ttB=$(c.tB)\")"
   ]
  },
  {
   "cell_type": "code",
   "execution_count": null,
   "metadata": {},
   "outputs": [],
   "source": [
    "herr=CurveEP([1.1,2],[3,4],[5,6],[7,8])"
   ]
  }
 ],
 "metadata": {
  "kernelspec": {
   "display_name": "Julia 0.6.2",
   "language": "julia",
   "name": "julia-0.6"
  },
  "language_info": {
   "file_extension": ".jl",
   "mimetype": "application/julia",
   "name": "julia",
   "version": "0.6.2"
  }
 },
 "nbformat": 4,
 "nbformat_minor": 2
}
