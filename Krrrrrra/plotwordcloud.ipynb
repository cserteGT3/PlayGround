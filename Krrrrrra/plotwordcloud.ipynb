{
 "cells": [
  {
   "cell_type": "code",
   "execution_count": null,
   "metadata": {
    "collapsed": true
   },
   "outputs": [],
   "source": [
    "#using Vega"
   ]
  },
  {
   "cell_type": "code",
   "execution_count": null,
   "metadata": {
    "collapsed": true
   },
   "outputs": [],
   "source": [
    "cd(\"lyrics\")"
   ]
  },
  {
   "cell_type": "code",
   "execution_count": null,
   "metadata": {
    "collapsed": true
   },
   "outputs": [],
   "source": [
    "filenames=readdir();\n",
    "olyrics=map(readstring,filenames);\n",
    "#map(close,filenames)"
   ]
  },
  {
   "cell_type": "code",
   "execution_count": null,
   "metadata": {},
   "outputs": [],
   "source": [
    "acclett = [\"á\",\"é\",\"í\",\"ó\",\"ö\",\"ő\",\"ú\",\"ü\",\"ű\"];\n",
    "nonacclett = [\"a\",\"e\",\"i\",\"o\",\"o\",\"o\",\"u\",\"u\",\"u\"];"
   ]
  },
  {
   "cell_type": "code",
   "execution_count": null,
   "metadata": {},
   "outputs": [],
   "source": [
    "function replaceAccents(strarr,acced,nonacced)\n",
    "    ret = similar(strarr)\n",
    "    for (i,curr) in enumerate(strarr)\n",
    "        ret[i] = lowercase(curr)\n",
    "        for (j,lett) in enumerate(acced)\n",
    "            ret[i] = replace(ret[i],lett,nonacced[j])\n",
    "        end\n",
    "    end\n",
    "    ret\n",
    "end"
   ]
  },
  {
   "cell_type": "code",
   "execution_count": null,
   "metadata": {},
   "outputs": [],
   "source": [
    "lyrics=replaceAccents(olyrics,acclett,nonacclett);"
   ]
  },
  {
   "cell_type": "code",
   "execution_count": null,
   "metadata": {
    "collapsed": true
   },
   "outputs": [],
   "source": [
    "wc = wordcloud(x=wlyrics, minThreshold=3, wordAngles=[0,90])"
   ]
  }
 ],
 "metadata": {
  "kernelspec": {
   "display_name": "Julia 0.6.0",
   "language": "julia",
   "name": "julia-0.6"
  },
  "language_info": {
   "file_extension": ".jl",
   "mimetype": "application/julia",
   "name": "julia",
   "version": "0.6.0"
  }
 },
 "nbformat": 4,
 "nbformat_minor": 2
}
