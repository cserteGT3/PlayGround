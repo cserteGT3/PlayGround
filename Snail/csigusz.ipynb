{
 "cells": [
  {
   "cell_type": "code",
   "execution_count": null,
   "metadata": {
    "collapsed": true
   },
   "outputs": [],
   "source": [
    "function snail(till,printval=10)\n",
    "    pos=0\n",
    "    tape=1\n",
    "    for i in 1:till\n",
    "        pos+=0.01\n",
    "        tape+=1\n",
    "        if i%printval==0\n",
    "            prval=100*(pos/tape)\n",
    "            println(\"$i-edik percben az út $prval%-t tette meg\")\n",
    "        end\n",
    "    end\n",
    "    prval=100*pos/tape\n",
    "    println(\"$till-edik (utolsó) percben az út $prval%-t tette meg\")\n",
    "end"
   ]
  },
  {
   "cell_type": "code",
   "execution_count": null,
   "metadata": {
    "collapsed": true
   },
   "outputs": [],
   "source": [
    "snail(100000000000,10000000000)"
   ]
  },
  {
   "cell_type": "code",
   "execution_count": 1,
   "metadata": {},
   "outputs": [
    {
     "data": {
      "text/plain": [
       "snail2 (generic function with 2 methods)"
      ]
     },
     "execution_count": 1,
     "metadata": {},
     "output_type": "execute_result"
    }
   ],
   "source": [
    "function snail2(till,printval=10)\n",
    "    pos=0\n",
    "    tape=1\n",
    "    for i in 1:till\n",
    "        tape+=1\n",
    "        pos+=0.01\n",
    "        pos=pos*((i+1)/i)\n",
    "        if i%printval==0\n",
    "            prval=100*(pos/tape)\n",
    "            println(\"$i-edik percben az út $prval%-t tette meg\")\n",
    "        end\n",
    "    end\n",
    "    prval=100*pos/tape\n",
    "    println(\"$till-edik (utolsó) percben az út $prval%-t tette meg\")\n",
    "end"
   ]
  },
  {
   "cell_type": "code",
   "execution_count": 2,
   "metadata": {},
   "outputs": [
    {
     "name": "stdout",
     "output_type": "stream",
     "text": [
      "10-edik (utolsó) percben az út 2.9289682539682547%-t tette meg\n"
     ]
    }
   ],
   "source": [
    "snail2(10,20000000000)"
   ]
  },
  {
   "cell_type": "code",
   "execution_count": 3,
   "metadata": {},
   "outputs": [
    {
     "name": "stdout",
     "output_type": "stream",
     "text": [
      "2000000000-edik percben az út 21.99362788410766%-t tette meg\n",
      "4000000000-edik percben az út 22.686774403507368%-t tette meg\n",
      "6000000000-edik percben az út 23.09223912488926%-t tette meg\n",
      "8000000000-edik percben az út 23.379920922961247%-t tette meg\n",
      "10000000000-edik percben az út 23.60306642267859%-t tette meg\n",
      "10000000000-edik (utolsó) percben az út 23.603066422678594%-t tette meg\n"
     ]
    }
   ],
   "source": [
    "snail2(10000000000,2000000000)"
   ]
  },
  {
   "cell_type": "code",
   "execution_count": null,
   "metadata": {
    "collapsed": true
   },
   "outputs": [],
   "source": []
  }
 ],
 "metadata": {
  "kernelspec": {
   "display_name": "Julia 0.6.0",
   "language": "julia",
   "name": "julia-0.6"
  },
  "language_info": {
   "file_extension": ".jl",
   "mimetype": "application/julia",
   "name": "julia",
   "version": "0.6.0"
  }
 },
 "nbformat": 4,
 "nbformat_minor": 2
}
