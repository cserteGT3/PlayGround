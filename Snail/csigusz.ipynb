{
 "cells": [
  {
   "cell_type": "code",
   "execution_count": 13,
   "metadata": {},
   "outputs": [
    {
     "data": {
      "text/plain": [
       "snail (generic function with 2 methods)"
      ]
     },
     "execution_count": 13,
     "metadata": {},
     "output_type": "execute_result"
    }
   ],
   "source": [
    "function snail(till,printval=10)\n",
    "    pos=0\n",
    "    tape=1\n",
    "    for i in 1:till\n",
    "        pos+=0.01\n",
    "        tape+=1\n",
    "        if i%printval==0\n",
    "            prval=100*(pos/tape)\n",
    "            println(\"$i-edik percben az út $prval%-t tette meg\")\n",
    "        end\n",
    "    end\n",
    "    prval=100*pos/tape\n",
    "    println(\"$till-edik (utolsó) percben az út $prval%-t tette meg\")\n",
    "end"
   ]
  },
  {
   "cell_type": "code",
   "execution_count": 14,
   "metadata": {},
   "outputs": [
    {
     "name": "stdout",
     "output_type": "stream",
     "text": [
      "100000-edik percben az út 0.9999900000992346%-t tette meg\n",
      "200000-edik percben az út 0.9999950000241629%-t tette meg\n",
      "300000-edik percben az út 0.9999966666841319%-t tette meg\n",
      "400000-edik percben az út 0.9999975000164726%-t tette meg\n",
      "500000-edik percben az út 0.9999980000165436%-t tette meg\n",
      "600000-edik percben az út 0.9999983333502019%-t tette meg\n",
      "700000-edik percben az út 0.9999985714458084%-t tette meg\n",
      "800000-edik percben az út 0.9999987500175876%-t tette meg\n",
      "900000-edik percben az út 0.9999988889067933%-t tette meg\n",
      "1000000-edik percben az út 0.9999990000181856%-t tette meg\n",
      "1000000-edik (utolsó) percben az út 0.9999990000181855%-t tette meg\n"
     ]
    }
   ],
   "source": [
    "snail(1000000,100000)"
   ]
  },
  {
   "cell_type": "code",
   "execution_count": null,
   "metadata": {
    "collapsed": true
   },
   "outputs": [],
   "source": []
  }
 ],
 "metadata": {
  "kernelspec": {
   "display_name": "Julia 0.6.0",
   "language": "julia",
   "name": "julia-0.6"
  },
  "language_info": {
   "file_extension": ".jl",
   "mimetype": "application/julia",
   "name": "julia",
   "version": "0.6.0"
  }
 },
 "nbformat": 4,
 "nbformat_minor": 2
}
